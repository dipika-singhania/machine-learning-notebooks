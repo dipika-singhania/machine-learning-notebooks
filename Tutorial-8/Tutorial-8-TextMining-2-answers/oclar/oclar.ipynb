{
 "cells": [
  {
   "cell_type": "markdown",
   "metadata": {},
   "source": [
    "# Sentiment Analysis for Reviews on Public and Private Services in the Lebanese Context"
   ]
  },
  {
   "cell_type": "markdown",
   "metadata": {},
   "source": [
    "### Al Omari, M., Al-Hajj, M., Hammami, N., & Sabra, A. (2019). Sentiment Classifier: Logistic Regression for Arabic Services’ Reviews in Lebanon. 2019 International Conference on Computer and Information Sciences (ICCIS), Sakaka, Saudi Arabia, 2019, pp. 1-5. Doi: 10.1109/ICCISci.2019.8716394"
   ]
  },
  {
   "cell_type": "code",
   "execution_count": 1,
   "metadata": {
    "scrolled": true
   },
   "outputs": [],
   "source": [
    "import pandas as pd\n",
    "import numpy as np\n",
    "import matplotlib.pyplot as plt\n",
    "%matplotlib inline\n",
    "from sklearn.model_selection import train_test_split\n",
    "from sklearn.feature_extraction.text import TfidfVectorizer\n",
    "from sklearn.metrics import roc_curve, auc, classification_report,  roc_auc_score, accuracy_score\n",
    "from sklearn.linear_model import LogisticRegression\n",
    "from sklearn import metrics"
   ]
  },
  {
   "cell_type": "markdown",
   "metadata": {},
   "source": [
    "## Loading OCLAR - Opinion Corpus for Lebanese Arabic Reviews dataset"
   ]
  },
  {
   "cell_type": "code",
   "execution_count": 2,
   "metadata": {
    "scrolled": false
   },
   "outputs": [],
   "source": [
    "df = pd.read_csv('OCLAR.csv')"
   ]
  },
  {
   "cell_type": "code",
   "execution_count": 3,
   "metadata": {
    "scrolled": true
   },
   "outputs": [
    {
     "data": {
      "text/plain": [
       "<matplotlib.axes._subplots.AxesSubplot at 0x22680fec1d0>"
      ]
     },
     "execution_count": 3,
     "metadata": {},
     "output_type": "execute_result"
    },
    {
     "data": {
      "image/png": "[encoded data removed]",
      "text/plain": [
       "<Figure size 432x288 with 1 Axes>"
      ]
     },
     "metadata": {
      "needs_background": "light"
     },
     "output_type": "display_data"
    }
   ],
   "source": [
    "df['rating'].value_counts().plot(kind='bar')"
   ]
  },
  {
   "cell_type": "markdown",
   "metadata": {},
   "source": [
    "### Data Exploration"
   ]
  },
  {
   "cell_type": "markdown",
   "metadata": {},
   "source": [
    "### Data Preparation "
   ]
  },
  {
   "cell_type": "code",
   "execution_count": 4,
   "metadata": {
    "scrolled": true
   },
   "outputs": [
    {
     "data": {
      "text/html": [
       "<div>\n",
       "<style scoped>\n",
       "    .dataframe tbody tr th:only-of-type {\n",
       "        vertical-align: middle;\n",
       "    }\n",
       "\n",
       "    .dataframe tbody tr th {\n",
       "        vertical-align: top;\n",
       "    }\n",
       "\n",
       "    .dataframe thead th {\n",
       "        text-align: right;\n",
       "    }\n",
       "</style>\n",
       "<table border=\"1\" class=\"dataframe\">\n",
       "  <thead>\n",
       "    <tr style=\"text-align: right;\">\n",
       "      <th></th>\n",
       "      <th>pagename</th>\n",
       "      <th>review</th>\n",
       "      <th>rating</th>\n",
       "      <th>Sentiment</th>\n",
       "    </tr>\n",
       "  </thead>\n",
       "  <tbody>\n",
       "    <tr>\n",
       "      <th>0</th>\n",
       "      <td>Beirut Golden Plaza Suites</td>\n",
       "      <td>هذا الفندق ينقصه بعض الاشياء داخل الغرف مثلا ع...</td>\n",
       "      <td>2</td>\n",
       "      <td>0</td>\n",
       "    </tr>\n",
       "    <tr>\n",
       "      <th>1</th>\n",
       "      <td>Beirut Golden Plaza Suites</td>\n",
       "      <td>لطيف ولكن الغرف الفندقية تحتاج صيانة كادر الخد...</td>\n",
       "      <td>4</td>\n",
       "      <td>1</td>\n",
       "    </tr>\n",
       "    <tr>\n",
       "      <th>2</th>\n",
       "      <td>Beirut Golden Plaza Suites</td>\n",
       "      <td>مكان جميل جدا وحسن الخلق والضيافه</td>\n",
       "      <td>5</td>\n",
       "      <td>1</td>\n",
       "    </tr>\n",
       "    <tr>\n",
       "      <th>3</th>\n",
       "      <td>Beirut Golden Plaza Suites</td>\n",
       "      <td>بحاجة الى اعادة تأهيل للمفروشات</td>\n",
       "      <td>3</td>\n",
       "      <td>1</td>\n",
       "    </tr>\n",
       "    <tr>\n",
       "      <th>4</th>\n",
       "      <td>Beirut Golden Plaza Suites</td>\n",
       "      <td>فندق ممتاز ومعاملة راقية جدا</td>\n",
       "      <td>5</td>\n",
       "      <td>1</td>\n",
       "    </tr>\n",
       "  </tbody>\n",
       "</table>\n",
       "</div>"
      ],
      "text/plain": [
       "                     pagename  \\\n",
       "0  Beirut Golden Plaza Suites   \n",
       "1  Beirut Golden Plaza Suites   \n",
       "2  Beirut Golden Plaza Suites   \n",
       "3  Beirut Golden Plaza Suites   \n",
       "4  Beirut Golden Plaza Suites   \n",
       "\n",
       "                                              review  rating  Sentiment  \n",
       "0  هذا الفندق ينقصه بعض الاشياء داخل الغرف مثلا ع...       2          0  \n",
       "1  لطيف ولكن الغرف الفندقية تحتاج صيانة كادر الخد...       4          1  \n",
       "2                  مكان جميل جدا وحسن الخلق والضيافه       5          1  \n",
       "3                    بحاجة الى اعادة تأهيل للمفروشات       3          1  \n",
       "4                       فندق ممتاز ومعاملة راقية جدا       5          1  "
      ]
     },
     "execution_count": 4,
     "metadata": {},
     "output_type": "execute_result"
    }
   ],
   "source": [
    "df['Sentiment'] = np.where(df['rating'] >= 3, 1, 0)\n",
    "df.head()"
   ]
  },
  {
   "cell_type": "code",
   "execution_count": 5,
   "metadata": {
    "scrolled": true
   },
   "outputs": [
    {
     "data": {
      "text/plain": [
       "<matplotlib.axes._subplots.AxesSubplot at 0x226817c50b8>"
      ]
     },
     "execution_count": 5,
     "metadata": {},
     "output_type": "execute_result"
    },
    {
     "data": {
      "image/png": "[encoded data removed]",
      "text/plain": [
       "<Figure size 432x288 with 1 Axes>"
      ]
     },
     "metadata": {
      "needs_background": "light"
     },
     "output_type": "display_data"
    }
   ],
   "source": [
    "df['Sentiment'].value_counts().plot(kind='bar')"
   ]
  },
  {
   "cell_type": "code",
   "execution_count": 6,
   "metadata": {},
   "outputs": [
    {
     "data": {
      "text/plain": [
       "451"
      ]
     },
     "execution_count": 6,
     "metadata": {},
     "output_type": "execute_result"
    }
   ],
   "source": [
    "len(df[df.Sentiment==0])"
   ]
  },
  {
   "cell_type": "code",
   "execution_count": 7,
   "metadata": {},
   "outputs": [
    {
     "data": {
      "text/plain": [
       "3465"
      ]
     },
     "execution_count": 7,
     "metadata": {},
     "output_type": "execute_result"
    }
   ],
   "source": [
    "len(df[df.Sentiment==1])"
   ]
  },
  {
   "cell_type": "markdown",
   "metadata": {},
   "source": [
    "### Train Test Split "
   ]
  },
  {
   "cell_type": "code",
   "execution_count": 8,
   "metadata": {},
   "outputs": [],
   "source": [
    "# Split data into training set and validation set\n",
    "X_train, X_test, y_train, y_test = train_test_split(df['review'], df['Sentiment'], test_size=0.2, random_state=0)"
   ]
  },
  {
   "cell_type": "code",
   "execution_count": 9,
   "metadata": {},
   "outputs": [
    {
     "name": "stdout",
     "output_type": "stream",
     "text": [
      "Load 3132 training examples and 784 validation examples. \n",
      "\n"
     ]
    }
   ],
   "source": [
    "print('Load %d training examples and %d validation examples. \\n' %(X_train.shape[0],X_test.shape[0]))"
   ]
  },
  {
   "cell_type": "code",
   "execution_count": 10,
   "metadata": {},
   "outputs": [
    {
     "data": {
      "text/plain": [
       "353"
      ]
     },
     "execution_count": 10,
     "metadata": {},
     "output_type": "execute_result"
    }
   ],
   "source": [
    "len(y_train[y_train==0])"
   ]
  },
  {
   "cell_type": "code",
   "execution_count": 11,
   "metadata": {},
   "outputs": [
    {
     "data": {
      "text/plain": [
       "2779"
      ]
     },
     "execution_count": 11,
     "metadata": {},
     "output_type": "execute_result"
    }
   ],
   "source": [
    "len(y_train[y_train==1])"
   ]
  },
  {
   "cell_type": "code",
   "execution_count": 12,
   "metadata": {},
   "outputs": [
    {
     "data": {
      "text/plain": [
       "98"
      ]
     },
     "execution_count": 12,
     "metadata": {},
     "output_type": "execute_result"
    }
   ],
   "source": [
    "len(y_test[y_test==0])"
   ]
  },
  {
   "cell_type": "code",
   "execution_count": 13,
   "metadata": {},
   "outputs": [
    {
     "data": {
      "text/plain": [
       "686"
      ]
     },
     "execution_count": 13,
     "metadata": {},
     "output_type": "execute_result"
    }
   ],
   "source": [
    "len(y_test[y_test==1])"
   ]
  },
  {
   "cell_type": "markdown",
   "metadata": {},
   "source": [
    "### TfidfVectorizer with Logistic Regression"
   ]
  },
  {
   "cell_type": "code",
   "execution_count": 14,
   "metadata": {},
   "outputs": [
    {
     "name": "stdout",
     "output_type": "stream",
     "text": [
      "Number of features : 7095 \n",
      "\n",
      "Show some feature names : \n",
      " ['000', '03015081', '10', '100', '1000', '12', '17', '1881', '1935', '1936', '1975', '1978', '20', '2000ل', '2007', '2017', '24', '24000ل', '25', '250', '27', '30000', '40', '4000', '42', '50', '500', '5000', '5000ل', '51', '58000', '6000', '65', '66', '70408890', '75', '7500ll', '76040182', '77', 'abou', 'action', 'against', 'al', 'alarms', 'alhamra', 'all', 'amount', 'ananas', 'and', 'antelias', 'any', 'april', 'are', 'as', 'asked', 'at', 'attacked', 'attention', 'bad', 'bay', 'be', 'because', 'beirut', 'best', 'blueberry', 'branch', 'breakfast', 'burger', 'but', 'called', 'can', 'catering', 'cheaters', 'choice', 'clean', 'coffee', 'components', 'computers', 'crunchy', 'crystal', 'cuisine', 'customers', 'customized', 'delicious', 'didn', 'director', 'do', 'don', 'eating', 'electronics', 'endroit', 'ever', 'everything', 'exellent', 'expensive', 'falafel', 'falfoul', 'find', 'food', 'for', 'formidable', 'found', 'fresh', 'friend', 'friendly', 'from', 'generally', 'good', 'gourmet', 'happened', 'have', 'here', 'highly', 'horible', 'husami', 'hygirne', 'ibrahim_86', 'idea', 'impress', 'in', 'informed', 'is', 'island', 'it', 'its', 'jawad', 'kfc', 'le', 'lebanese', 'lebanon', 'led', 'like', 'local', 'looks', 'lots', 'love', 'made', 'mado', 'manager', 'manners', 'me', 'meals', 'meet', 'meilleur', 'menuمتنوع', 'milkshake', 'monday', 'most', 'munchease', 'must', 'mövenpick', 'nabil', 'nescafe', 'new', 'nice', 'not', 'nowayyyyyyyyyyyyyyyyy', 'of', 'off', 'on', 'packet', 'parking', 'pay', 'paying', 'perfect', 'peripherals', 'place', 'plats', 'police', 'polite', 'price', 'priced', 'princess', 'prix', 'problem', 'products', 'real', 'really', 'reasonably', 'recommended', 'refused', 'restaurant', 'rip', 'roadster', 'rock', 'salsa', 'samer', 'sawani', 'see', 'served', 'service', 'shop', 'smiling', 'so', 'solve', 'sorts', 'soup', 'specialite', 'specially', 'square', 'staff', 'standard', 'star', 'stars', 'store', 'stores', 'street', 'sudeco', 'sure', 'take', 'taste', 'tasty', 'tgey', 'that', 'the', 'their', 'then', 'they', 'this', 'thr', 'tl', 'to', 'tourist', 'traditional', 'training', 'try', 'trying', 'turkey', 'updated', 'us', 'use', 'vallet', 'very', 'view', 'violence', 'visiting', 'waiter', 'waiters', 'wanted', 'was', 'way', 'welcoming', 'well', 'western', 'what', 'when', 'while', 'will', 'with', 'worse', 'you', 'zero', 'zomato', 'آآآآآ', 'آب', 'آح', 'آخ', 'آخر', 'آشهر', 'آفاق', 'آكله', 'آم', 'آمنة', 'آن', 'أب', 'أبا', 'أبدا', 'أبلغتهم', 'أبو', 'أبيض', 'أترددعلى', 'أتمنى', 'أثري', 'أجمل', 'أجنبي', 'أجواء', 'أجود', 'أحب', 'أحببته', 'أحبه', 'أحد', 'أحدا', 'أحضروا', 'أحلا', 'أحلى', 'أخدم', 'أخرى', 'أخلاقنا', 'أداره', 'أدبية', 'أدوية', 'أذ', 'أذوق', 'أراكيل', 'أربع', 'أرخص', 'أرغيله', 'أرقى', 'أركيلة', 'أرمنية', 'أرواد', 'أروع', 'أزر', 'أزره', 'أستقبال', 'أسرع', 'أسعار', 'أسعاره', 'أسعارو', 'أسماك', 'أسوء', 'أسوأ', 'أشباح', 'أشجار', 'أشخاص', 'أشعر', 'أشه', 'أشهر', 'أشهى', 'أشيش', 'أصبح', 'أصبعو', 'أصحاب', 'أصحابه', 'أصحابي', 'أصدقاء', 'أصلها', 'أصناف', 'أصنافا', 'أصوات', 'أصوله', 'أطباق', 'أطباقه', 'أطعمة', 'أطعمته', 'أطلاله', 'أطول', 'أطيب', 'أظهر', 'أعباء', 'أعجبتنا', 'أعدة', 'أعلم', 'أعمل', 'أعيد', 'أعيش', 'أغاني', 'أغلبها', 'أغلى', 'أفخر', 'أفخم', 'أفراد', 'أفشل', 'أفضل', 'أفطرت', 'أفندينا', 'أقدم', 'أقل', 'أكبر', 'أكتر', 'أكثر', 'أكرر', 'أكره', 'أكل', 'أكلات', 'أكلاتو', 'أكلة', 'أكلت', 'أكله', 'أكلهم', 'أكلو', 'أكيدة', 'ألطف', 'ألعاب', 'ألفين', 'ألموقع', 'أم', 'أما', 'أماكن', 'أمام', 'أمامنا', 'أمان', 'أمتار', 'أمل', 'أمني', 'أمي', 'أميركي', 'أن', 'أنا', 'أنصح', 'أنصحكم', 'أنضف', 'أنظف', 'أنك', 'أننا', 'أنه', 'أنها', 'أنو', 'أنواع', 'أنواعها', 'أني', 'أهم', 'أو', 'أوركيد', 'أوقات', 'أول', 'أولى', 'أي', 'أيام', 'أيس', 'أيضا', 'ؤكون', 'إبداعية', 'إتمام', 'إجمال', 'إجمالا', 'إحسانك', 'إدارة', 'إداري', 'إدمان', 'إذ', 'إذا', 'إستقبال', 'إسطنبول', 'إضراب', 'إطلالة', 'إظهارهم', 'إعادة', 'إعتذار', 'إغلاقه', 'إل', 'إلا', 'إلشيشه', 'إلى', 'إلي', 'إليك', 'إليه', 'إليها', 'إما', 'إن', 'إنا', 'إنارة', 'إنتصار', 'إنشائه', 'إنما', 'إنه', 'إنو', 'إهتمام', 'إيدو', 'إيطالي', 'ئة', 'ااأشياء', 'االدخان', 'االعمل', 'ابأس', 'ابتسامة', 'ابتكارات', 'ابحث', 'ابدا', 'ابداا', 'ابدن', 'ابراهيم', 'ابريل', 'ابشع', 'ابعد', 'ابن', 'ابنتي', 'ابنو', 'ابو', 'ات', 'اتصل', 'اتفاقيات', 'اتق', 'اتكلم', 'اتلقى', 'اتمنى', 'اتناول', 'اتوقع', 'اتيت', 'اثاثه', 'اثري', 'اثناء', 'اثنان', 'اجا', 'اجابوا', 'اجاج', 'اجاربة', 'اجت', 'اجتماعات', 'اجده', 'اجل', 'اجمال', 'اجمالا', 'اجمل', 'اجهزة', 'اجواء', 'اجواءه', 'اجوائه', 'اجي', 'اح', 'احب', 'احببت', 'احببته', 'احبه', 'احترام', 'احتساء', 'احتفظ', 'احتوت', 'احتياج', 'احتياجاتهم', 'احجز', 'احد', 'احرص', 'احرض', 'احسن', 'احضر', 'احكي', 'احل', 'احلا', 'احلاقعدي', 'احله', 'احلى', 'احلي', 'احمد', 'اخبرتها', 'اختار', 'اختاري', 'اختصاصي', 'اختلاف', 'اختنقنا', 'اختيار', 'اخذ', 'اخر', 'اخرى', 'اخص', 'اخوة', 'اد', 'ادارة', 'اداره', 'ادري', 'ادعمهن', 'ادعي', 'ادعية', 'ادفع', 'ادوق', 'اذا', 'اذكياى', 'اذن', 'اذهب', 'اراجيل', 'ارتحت', 'ارتوازي', 'ارتياده', 'ارجع', 'ارجو', 'ارجيلتوا', 'ارجيله', 'ارخص', 'اردت', 'ارستقراطي', 'ارسل', 'ارشادات', 'ارضاء', 'ارضية', 'ارغا', 'ارغب', 'ارغيلة', 'اركيلة', 'اركيله', 'اروع', 'اروق', 'ارى', 'اريد', 'ازا', 'ازبط', 'ازدحام', 'ازعاج', 'ازور', 'ازوره', 'اس', 'اسأل', 'اسبوعين', 'استاذ', 'استخفاف', 'استراحة', 'استعداد', 'استعراضات', 'استغلال', 'استفهام', 'استقبال', 'استقبالكم', 'استقبلنا', 'استمتعت', 'اسثنائيه', 'اسعادك', 'اسعار', 'اسعارة', 'اسعارمقبولة', 'اسعاره', 'اسعارها', 'اسعارهم', 'اسعارو', 'اسعاروا', 'اسعارون', 'اسكالوب', 'اسكلوب', 'اسكن', 'اسلوب', 'اسلوبهم', 'اسم', 'اسماك', 'اسمه', 'اسمها', 'اسهال', 'اسهرو', 'اسوء', 'اسوأ', 'اسوا', 'اسواء', 'اشارات', 'اشتري', 'اشتريت', 'اشتغل', 'اشتهينا', 'اشجار', 'اشجارها', 'اشجع', 'اشخاص', 'اشرب', 'اشرررد', 'اشعر', 'اشك', 'اشمون', 'اشها', 'اشهر', 'اشهى', 'اشون', 'اشياء', 'اصبح', 'اصبحت', 'اصحاب', 'اصحابي', 'اصدقائنا', 'اصدقائي', 'اصطحاب', 'اصطناعية', 'اصغر', 'اصل', 'اصناف', 'اصيل', 'اضافات', 'اضافه', 'اطباق', 'اطباقا', 'اطباقه', 'اطعم', 'اطعمة', 'اطفاء', 'اطفال', 'اطلالات', 'اطلالة', 'اطلالته', 'اطلاله', 'اطلب', 'اطيب', 'اعادة', 'اعتقد', 'اعجاب', 'اعجبني', 'اعداد', 'اعدة', 'اعراس', 'اعرفه', 'اعز', 'اعشق', 'اعشقها', 'اعطاء', 'اعطاؤنا', 'اعطائنا', 'اعطال', 'اعطي', 'اعطيت', 'اعلانات', 'اعلم', 'اعلى', 'اعمل', 'اعود', 'اغا', 'اغاني', 'اغراض', 'اغلاقه', 'اغلى', 'اف', 'افتح', 'افخر', 'افراح', 'افران', 'افرنجي', 'افضل', 'افضله', 'افضلها', 'افطار', 'افطاري', 'افلوس', 'افندينا', 'افهم', 'افوكادو', 'اق', 'اقترح', 'اقدمهم', 'اقرف', 'اقصده', 'اقضي', 'اقل', 'اكبر', 'اكتر', 'اكتشفه', 'اكتيبها', 'اكتير', 'اكثر', 'اكرم', 'اكسترا', 'اكل', 'اكلا', 'اكلات', 'اكلاته', 'اكلة', 'اكلت', 'اكلك', 'اكلكم', 'اكلنا', 'اكله', 'اكلهم', 'اكلهن', 'اكلهون', 'اكلو', 'اكلوا', 'اكلون', 'اكنت', 'اكواب', 'اكوردنق', 'اكول', 'اكون', 'اكيب', 'اكيد', 'ال', 'الcake', 'الآخر', 'الآخرين', 'الآن', 'الأثريه', 'الأجهزة', 'الأجواء', 'الأحبة', 'الأحمر', 'الأحيان', 'الأخيرة', 'الأداء', 'الأذهان', 'الأراغيل', 'الأرغيلي', 'الأركيلة', 'الأرمني', 'الأساسي', 'الأساسية', 'الأستقبال', 'الأسعار', 'الأسف', 'الأسماك', 'الأشياء', 'الأصدقاء', 'الأصل', 'الأصلية', 'الأصناف', 'الأصيل', 'الأصيله', 'الأطعمة', 'الأطفال', 'الأغنياء', 'الأفراد', 'الأفرع', 'الأفضل', 'الأقل', 'الأكبر', 'الأكل', 'الأكلات', 'الأماكن', 'الأمر', 'الأمنيات', 'الأن', 'الأنسب', 'الأنواع', 'الأهلية', 'الأورما', 'الأوسط', 'الأوقات', 'الأول', 'الأولى', 'الأولية', 'الأيام', 'الإتصالات', 'الإجابه', 'الإختيار', 'الإدارة', 'الإزدحام', 'الإستغراب', 'الإستقبال', 'الإضافات', 'الإطالة', 'الإطلاق', 'الإفطار', 'الإلتزام', 'الإمكان', 'الإمكانيات', 'الإهمال', 'الا', 'الابان', 'الابتسامة', 'الابدان', 'الابيض', 'الاتاوة', 'الاتفاق', 'الاتوستراد', 'الاجازة', 'الاجانب', 'الاجمالي', 'الاجنحة', 'الاجواء', 'الاحترام', 'الاحتياجات', 'الاحتياط', 'الاحد', 'الاحمر', 'الاحوال', 'الاختصاصات', 'الاخر', 'الاخرى', 'الاخضر', 'الاخير', 'الادارة', 'الادب', 'الادنى', 'الاذواق', 'الاراجيل', 'الاراكيل', 'الاربعة', 'الارجيلة', 'الاردية', 'الارض', 'الاركيلة', 'الاركيله', 'الارمنيه', 'الاروع', 'الازدحام', 'الازدهار', 'الاسبوع', 'الاستاذ', 'الاسترخاء', 'الاستضافة', 'الاستفراغ', 'الاستقبال', 'الاستماع', 'الاستمتاع', 'الاسعار', 'الاسف', 'الاسكالوب', 'الاسم', 'الاسمتاع', 'الاسمر', 'الاشجار', 'الاشخاص', 'الاشياء', 'الاصالة', 'الاصدقاء', 'الاصليين', 'الاصناف', 'الاصيل', 'الاصيلة', 'الاطباء', 'الاطباق', 'الاطعمة', 'الاطفال', 'الاطلال', 'الاطلالات', 'الاطلالة', 'الاطلاله', 'الاطيب', 'الاعلى', 'الاعمار', 'الاغتراب', 'الافاكادو', 'الافحم', 'الافضل', 'الافطار', 'الاقسام', 'الاقصى', 'الاك', 'الاكترونية', 'الاكل', 'الاكلات', 'الالبسه', 'الالكترونيات', 'الالكترونية', 'الالكترونيه', 'الاماكن', 'الامام', 'الامراء', 'الامن', 'الامور', 'الاميرات', 'الان', 'الاناقة', 'الانتباه', 'الانترنيت', 'الانتظار', 'الانتهاء', 'الانسه', 'الاهتمام', 'الاهم', 'الاوتستراد', 'الاوردر', 'الاوسط', 'الاوقات', 'الاول', 'الاولاد', 'الاولى', 'الاولي', 'الاوليه', 'الاياري', 'الايام', 'الايطالية', 'الب', 'البارحة', 'البارحه', 'البارد', 'الباردة', 'البارده', 'الباش', 'الباقية', 'البال', 'البامية', 'البانيه', 'الباي', 'البحث', 'البحر', 'البحري', 'البحرية', 'البحريه', 'البحصاصة', 'البحصلي', 'البداية', 'البدن', 'البديع', 'البديل', 'البراد', 'البربير', 'البرج', 'البرستت', 'البرغر', 'البرقرات', 'البركة', 'البرهيم', 'البرودة', 'البرگر', 'البسمة', 'البسه', 'البشوش', 'البضاعة', 'البضاعه', 'البطاطا', 'البطاطه', 'البعض', 'البعيدة', 'البقاع', 'البقر', 'البلاد', 'البلد', 'البلدان', 'البلديه', 'البناني', 'البنانية', 'البهارات', 'البهية', 'البوشرية', 'البوظة', 'البيئي', 'البيارتة', 'البيت', 'البيتزا', 'البير', 'البيروتي', 'البيزا', 'البيض', 'البيضاء', 'البيضة', 'البيوت', 'التابع', 'التابعة', 'التاني', 'التبريد', 'التجاري', 'التجربة', 'التجوال', 'التحديق', 'التحسين', 'التدخين', 'التدين', 'التراث', 'التراثي', 'التراميديكا', 'الترتيب', 'الترفيه', 'الترفيهية', 'التركي', 'التركيا', 'التركية', 'الترويقة', 'التسديد', 'التسوق', 'التشكيلة', 'التصوير', 'التعامل', 'التعريف', 'التعليقات', 'التغطيات', 'التفاصيل', 'التق', 'التقاط', 'التقدم', 'التقدمات', 'التقدير', 'التقديم', 'التقليد', 'التقليدي', 'التكفيري', 'التكييف', 'التلفزيونية', 'التليفون', 'التمديدات', 'التمني', 'التنافسية', 'التنظيم', 'التنكيل', 'التنوع', 'التواصل', 'التوشكا', 'التوصيل', 'التوفيق', 'التوقعات', 'التوقف', 'التى', 'التي', 'التين', 'الثامن', 'الثاني', 'الثانية', 'الثانيه', 'الثقافية', 'الثمن', 'الثورة', 'الثوم', 'الجامعات', 'الجامعة', 'الجامعه', 'الجبل', 'الجبن', 'الجديده', 'الجرسون', 'الجزء', 'الجعفيل', 'الجلسات', 'الجلسة', 'الجلسه', 'الجلوس', 'الجمال', 'الجمعة', 'الجميع', 'الجميل', 'الجميلة', 'الجميله', 'الجنة', 'الجنرال', 'الجنوبي', 'الجنوبية', 'الجنيف', 'الجهة', 'الجو', 'الجواد', 'الجودة', 'الجوده', 'الجوع', 'الجيد', 'الجيدة', 'الجين', 'الحارة', 'الحاره', 'الحاصباني', 'الحافلات', 'الحال', 'الحب', 'الحبيبة', 'الحج', 'الحجري', 'الحجز', 'الحجم', 'الحد', 'الحدائق', 'الحداثة', 'الحدث', 'الحدود', 'الحديثة', 'الحديقه', 'الحرب', 'الحريري', 'الحساب', 'الحسن', 'الحسنة', 'الحشايش', 'الحصزل', 'الحضارة', 'الحضرمي', 'الحفلات', 'الحفله', 'الحكومة', 'الحل', 'الحلاب', 'الحلال', 'الحلبي', 'الحلبية', 'الحلبيه', 'الحلو', 'الحلوة', 'الحلوه', 'الحلويات', 'الحم', 'الحمام', 'الحمامات', 'الحمدالله', 'الحمرا', 'الحمراء', 'الحمص', 'الحميد', 'الحياة', 'الخ', 'الخارج', 'الخارجية', 'الخاص', 'الخاصة', 'الخاصه', 'الخاضعة', 'الخالص', 'الخبر', 'الخبرة', 'الخبره', 'الخبز', 'الخدم', 'الخدمات', 'الخدمة', 'الخدمة9', 'الخدمه', 'الخروج', 'الخضار', 'الخفيفة', 'الخلابة', 'الخلف', 'الخلق', 'الخليجية', 'الخمور', 'الخيارات', 'الخيال', 'الخيالية', 'الخير', 'الد', 'الدائم', 'الداخل', 'الداخلي', 'الداخلية', 'الدار', 'الداون', 'الدجاج', 'الدخان', 'الدخل', 'الدخول', 'الدراجات', 'الدراجه', 'الدرب', 'الدرجة', 'الدعاية', 'الدفع', 'الدقه', 'الدكتور', 'الدكور', 'الدلفري', 'الدليڤري', 'الدمشقية', 'الدنيا', 'الدوام', 'الدور', 'الدول', 'الدولة', 'الدولي', 'الديكور', 'الديكورات', 'الديليفري', 'الدين', 'الذ', 'الذباب', 'الذبح', 'الذريعة', 'الذكريات', 'الذهاب', 'الذهب', 'الذهبي', 'الذوق', 'الذي', 'الذيذن', 'الرئسي', 'الرئيسية', 'الرئيسيه', 'الرائع', 'الرائعة', 'الرائعه', 'الرابع', 'الراحة', 'الراحه', 'الراقية', 'الراقيه', 'الربيع', 'الرجيلة', 'الرحاب', 'الرحله', 'الرحمن', 'الرز', 'الرزق', 'الرغبة', 'الرغم', 'الرقاقات', 'الرمل', 'الرملة', 'الرنكين', 'الرواد', 'الرواق', 'الروح', 'الروس', 'الروشة', 'الروشه', 'الروعة', 'الروعه', 'الروكا', 'الرياضات', 'الرياضي', 'الريحان', 'الريف', 'الزائدة', 'الزائر', 'الزبائن', 'الزباين', 'الزبون', 'الزحمة', 'الزحمه', 'الزرقاء', 'الزعتر', 'الزوات', 'الزيارة', 'الزياره', 'الزيت', 'الزيتونه', 'السابق', 'السابقه', 'الساحة', 'الساحره', 'الساخة', 'الساخنة', 'الساعة', 'الساندويش', 'الساندويشات', 'السباحة', 'السباحه', 'السبايسي', 'السبب', 'السبت', 'السبيل', 'الست', 'الستيك', 'السجق', 'السخونة', 'السرايا', 'السرعة', 'السرفس', 'السرفيس', 'السريع', 'السريعة', 'السريعه', 'السعر', 'السعودية', 'السفر', 'السفلي', 'السفن', 'السلام', 'السلبيات', 'السلبيه', 'السلطان', 'السلطه', 'السماوات', 'السماوي', 'السمك', 'السمكان', 'السناب', 'السناك', 'السنة', 'السندويتشات', 'السندويش', 'السندويشات', 'السنديش', 'السنين', 'السهر', 'السهرات', 'السهرة', 'السهره', 'السوءال', 'السودة', 'السوديكو', 'السورين', 'السوريه', 'السوسي', 'السوشي', 'السوق', 'السوليدير', 'السويت', 'السيء', 'السيئة', 'السياحة', 'السياحية', 'السيارات', 'السيارة', 'السيد', 'السيرتش', 'السيستام', 'الش', 'الشارع', 'الشاطئ', 'الشاطيء', 'الشام', 'الشاورما', 'الشاورمات', 'الشب', 'الشباب', 'الشباك', 'الشتاء', 'الشجرة', 'الشحاد', 'الشخص', 'الشخصوهذا', 'الشديد', 'الشرب', 'الشرطة', 'الشرعية', 'الشرق', 'الشرقي', 'الشرقية', 'الشروط', 'الشط', 'الشعب', 'الشعبي', 'الشعبية', 'الشعور', 'الشقيقين', 'الشكل', 'الشلال', 'الشله', 'الشمال', 'الشمس', 'الشمعة', 'الشميسي', 'الشنكليش', 'الشهي', 'الشهية', 'الشهير', 'الشهيه', 'الشوارع', 'الشورما', 'الشورمات', 'الشي', 'الشيء', 'الشيئ', 'الشيشة', 'الشيشه', 'الشيف', 'الص', 'الصاص', 'الصالات', 'الصالة', 'الصباحيه', 'الصبح', 'الصحة', 'الصحف', 'الصحن', 'الصحي', 'الصحية', 'الصحيه', 'الصخرة', 'الصخره', 'الصداع', 'الصدر', 'الصراحة', 'الصراحه', 'الصرف', 'الصعب', 'الصعبة', 'الصغار', 'الصغيره', 'الصلح', 'الصنائع', 'الصناعة', 'الصندوق', 'الصندووق', 'الصور', 'الصورة', 'الصوصة', 'الصيادية', 'الصيانة', 'الصيف', 'الضاحية', 'الضاحيه', 'الضغط', 'الضم', 'الضو', 'الضيافة', 'الضيافه', 'الضيعة', 'الضيف', 'الضيفه', 'الط', 'الطابع', 'الطابق', 'الطاجن', 'الطازج', 'الطازجة', 'الطاقم', 'الطاولات', 'الطاولة', 'الطاووق', 'الطباخين', 'الطبق', 'الطبقة', 'الطبلية', 'الطبيب', 'الطبيعة', 'الطبيعه', 'الطبيعي', 'الطبيعيه', 'الطرابلسى', 'الطرابلسي', 'الطرابلسية', 'الطرابلسيون', 'الطراز', 'الطرب', 'الطرف', 'الطريق', 'الطريقة', 'الطريقه', 'الطعام', 'الطعم', 'الطعمه', 'الطف', 'الطقس', 'الطلاب', 'الطلب', 'الطلبات', 'الطلبية', 'الطلق', 'الطهي', 'الطويل', 'الطيب', 'الطيبة', 'الطيبه', 'الطيبي', 'الظروف', 'العائلات', 'العائلة', 'العائله', 'العاب', 'العاصمة', 'العافيه', 'العالم', 'العالمي', 'العام', 'العامة', 'العامل', 'العامله', 'العاملين', 'العباد', 'العبد', 'العبدالله', 'العبدلله', 'العبوس', 'العثمانية', 'العثمانيين', 'العجرفة', 'العجقة', 'العجمي', 'العدليه', 'العديد', 'العراق', 'العرايس', 'العربي', 'العربية', 'العربيه', 'العرس', 'العرض', 'العروضات', 'العزيري', 'العشا', 'العشاء', 'العصائر', 'العصافير', 'العصر', 'العصير', 'العصيرات', 'العطلات', 'العطلة', 'العظيم', 'العقل', 'العلم', 'العلماء', 'العلوم', 'العلوي', 'العم', 'العمال', 'العمالة', 'العمل', 'العملاء', 'العميل', 'العنان', 'العنب', 'العنوان', 'العنوانين', 'العواد', 'العيران', 'الغاء', 'الغازية', 'الغالي', 'الغالية', 'الغداء', 'الغربي', 'الغربية', 'الغربيه', 'الغرف', 'الغروب', 'الغشاشين', 'الغولف', 'الغير', 'الـ', 'الـkfc', 'الف', 'الفئات', 'الفاتورة', 'الفاتوره', 'الفاخرة', 'الفارق', 'الفاكهه', 'الفاليه', 'الفاهيتا', 'الفتات', 'الفتة', 'الفترة', 'الفتوش', 'الفحم', 'الفخامة', 'الفخمة', 'الفراخ', 'الفرد', 'الفرز', 'الفرع', 'الفرن', 'الفرنجي', 'الفرنسيسكو', 'الفرنسيه', 'الفروج', 'الفروع', 'الفريدة', 'الفساد', 'الفضيل', 'الفطر', 'الفطور', 'الفقير', 'الفقيرة', 'الفكاهية', 'الفكرة', 'الفلافل', 'الفلمنكي', 'الفنان', 'الفنانين', 'الفندق', 'الفندقيه', 'الفني', 'الفواكة', 'الفواكهة', 'الفوتبول', 'الفوضى', 'الفول', 'الفيصل', 'القائمين', 'القادمة', 'القاعة', 'القاعه', 'القاهرة', 'القديم', 'القديمة', 'القديمه', 'القرن', 'القريب', 'القريدس', 'القسم', 'القطع', 'القعدة', 'القعده', 'القعدي', 'القلب', 'القلبيه', 'القلعة', 'القلعه', 'القلمون', 'القمر', 'القناعه', 'القنوات', 'القهوة', 'القهوه', 'القيمة', 'القيمين', 'الكافيات', 'الكافيه', 'الكبار', 'الكبة', 'الكبير', 'الكبيرة', 'الكبيس', 'الكترونات', 'الكتروني', 'الكترونيات', 'الكترونية', 'الكترونيكس', 'الكثير', 'الكحول', 'الكحولية', 'الكراسي', 'الكراسين', 'الكرسبي', 'الكرم', 'الكريمة', 'الكطعم', 'الكعدة', 'الكعك', 'الكفتة', 'الكفته', 'الكل', 'الكلام', 'الكلمة', 'الكلمه', 'الكلى', 'الكليات', 'الكميات', 'الكمية', 'الكميه', 'الكنافة', 'الكنافه', 'الكنف', 'الكهف', 'الكورة', 'الكورنيش', 'الكول', 'الكيك', 'الل', 'اللائحة', 'اللائق', 'اللازم', 'اللبن', 'اللبناني', 'اللبنانية', 'اللبنانيه', 'اللبنانيين', 'اللحظات', 'اللحم', 'اللحمة', 'اللحوم', 'اللذيذ', 'اللذيذة', 'اللذيذه', 'اللطافة', 'اللقمة', 'اللقمه', 'الله', 'اللهم', 'اللون', 'اللي', 'الليل', 'الليلكي', 'الليمون', 'المأكولات', 'المؤدية', 'المؤكولات', 'الماء', 'المائيه', 'الماتر', 'المادة', 'الماذات', 'الماركات', 'الماكولات', 'الماكينه', 'المال', 'المالح', 'الماليزية', 'الماي', 'المبلغ', 'المتب', 'المتجددة', 'المتحف', 'المتخصصين', 'المتذوقين', 'المترددين', 'المتعة', 'المتفق', 'المتميزة', 'المتميزه', 'المتنزهات', 'المتنوع', 'المتنوعة', 'المتواجدة', 'المتواضع', 'المتوسط', 'المتوفر', 'المتوقع', 'المثل', 'المجارير', 'المجال', 'المجالات', 'المجاورة', 'المجدرة', 'المجموع', 'المجيئ', 'المحافظة', 'المحترم', 'المحدود', 'المحطه', 'المحل', 'المحلات', 'المحلية', 'المحيطة', 'المخبز', 'المخبوزات', 'المختلفة', 'المختلفه', 'المخطئ', 'المدارس', 'المدخل', 'المدخنين', 'المدراء', 'المدروسة', 'المدعو', 'المدير', 'المديره', 'المديرية', 'المدينة', 'المدينه', 'المذاق', 'المر', 'المراتون', 'المرافقة', 'المرة', 'المرتفعة', 'المرحه', 'المرحوم', 'المرفأ', 'المرور', 'المروري', 'المزدحمة', 'المزرعة', 'المزعجين', 'المزهر', 'المزيد', 'المسؤليه', 'المسؤول', 'المسؤولة', 'المسؤولين', 'المسابح', 'المساحة', 'المسافرون', 'المسبح', 'المستشفى', 'المستشفيات', 'المستوفية', 'المستوى', 'المستوي', 'المسحب', 'المسرح', 'المسنجر', 'المشاوي', 'المشتري', 'المشددة', 'المشروبات', 'المشروع', 'المشفى', 'المشكلة', 'المشهور', 'المشهورة', 'المشهوره', 'المشوار', 'المشوي', 'المشويات', 'المشوية', 'المصالح', 'المصيطبة', 'المطار', 'المطاعم', 'المطبخ', 'المطرح', 'المطع', 'المطعم', 'المطعمين', 'المطل', 'المطلة', 'المطلوب', 'المطلوبة', 'المعاملات', 'المعاملة', 'المعامله', 'المعتاد', 'المعجنات', 'المعروف', 'المعروفين', 'المعقول', 'المعموره', 'المعنى', 'المغربي', 'المغسلة', 'المفتوح', 'المفضل', 'المقاهي', 'المقاوما', 'المقاييس', 'المقبلات', 'المقدم', 'المقدمة', 'المقدمه', 'المقرمش', 'المقرمشة', 'المقلي', 'المقلية', 'المقليه', 'المقهى', 'المكاااان', 'المكاتب', 'المكان', 'المكسيكي', 'المكشوف', 'المكن', 'المكونات', 'الملابس', 'الملاح', 'الملاحظة', 'الملاحظه', 'الملاصقة', 'الملاعب', 'الملفات', 'الممتاز', 'الممتعة', 'الممرات', 'المميز', 'المميزة', 'المميزه', 'المناخ', 'المناسب', 'المناسبات', 'المناطق', 'المناظر', 'المناقيش', 'المنتجات', 'المنتجع', 'المنتجعات', 'المنتزه', 'المنخفض', 'المندي', 'المنزل', 'المنسف', 'المنطقة', 'المنظر', 'المنقوشة', 'المهجور', 'المهم', 'المواد', 'المواصفات', 'المواطن', 'المواقف', 'الموبايلات', 'الموتارات', 'الموجود', 'الموجودة', 'الموزاريلا', 'الموسيقى', 'الموصل', 'الموضف', 'الموضوع', 'الموظف', 'الموظفات', 'الموظفة', 'الموظفون', 'الموظفين', 'الموفنبيك', 'الموقع', 'الموقف', 'المياه', 'الميراندا', 'الميلاد', 'الميناء', 'المينو', 'المييزه', 'المﻻبس', 'النئ', 'النابض', 'الناحيه', 'النادلين', 'النادي', 'الناريه', 'الناس', 'الناصع', 'النافورات', 'النبع', 'النت', 'النجاح', 'النجمة', 'النجمه', 'النجوم', 'النخاع', 'النرجيلة', 'النزول', 'النسبي', 'النظاف', 'النظافة', 'النظافه', 'النظر', 'النظيف', 'النفايات', 'النقطه', 'النقود', 'النكهة', 'النكهه', 'النهار', 'النهر', 'النواحي', 'النيئة', 'النية', 'اله', 'الها', 'الهادئة', 'الهامبرغ', 'الهامبرغر', 'الهدوء', 'الهدوؤ', 'الهرولة', 'الهمبرجر', 'الهمبرغر', 'الهمبرقل', 'الهندبه', 'الهوا', 'الهواء', 'الهواتف', 'الو', 'الواحد', 'الواحدة', 'الواطي', 'الوايتر', 'الوتس', 'الوجبات', 'الوجبة', 'الوجه', 'الوحيدة', 'الورد', 'الورق', 'الوزارات', 'الوزارة', 'الوزير', 'الوسط', 'الوصول', 'الوضع', 'الوطن', 'الوقت', 'الوم', 'الويتر', 'الى', 'الي', 'اليمنية', 'اليه', 'اليو', 'اليوسف', 'اليوم', 'اليومي', 'اليومية', 'ام', 'اما', 'اماكن', 'امامك', 'امان', 'امتع', 'امتعاض', 'امتياز', 'امر', 'امراة', 'امكانيو', 'امل', 'امم', 'امنعو', 'امورك', 'ان', 'انا', 'اناقة', 'انبسطت', 'انبياء', 'انة', 'انت', 'انتا', 'انتبهوا', 'انتظار', 'انتم', 'انتو', 'انخ', 'انزل', 'انسى', 'انصاح', 'انصح', 'انصحك', 'انصحكم', 'انصحكون', 'انصحهم', 'انضباط', 'انضف', 'انظف', 'انفخ', 'انفصلا', 'انك', 'انكب', 'اننا', 'انني', 'انه', 'انها', 'انهم', 'انهه', 'انهو', 'انهوا', 'انو', 'انواع', 'انواعه', 'انواعها', 'انواعهم', 'انواعو', 'انى', 'اني', 'انيق', 'اهتمام', 'اهدني', 'اهل', 'اهلي', 'اهم', 'اهمالها', 'او', 'اوتل', 'اوتيل', 'اوتيلات', 'اوردر', 'اوروبا', 'اوريو', 'اوصي', 'اوقات', 'اوقفته', 'اوك', 'اول', 'اولا', 'اولوياته', 'اوهندباء', 'اي', 'ايام', 'اية', 'ايدكم', 'ايسكريم', 'ايصال', 'ايصاله', 'ايصالها', 'ايضا', 'ايطالي', 'ايقاف', 'ايه', 'ايى', 'اﻻمكان', 'ب50', 'ب7500ل', 'بءر', 'بآخرو', 'بأبتسامته', 'بأجواء', 'بأخد', 'بأس', 'بأسرع', 'بأسعار', 'بأطباقه', 'بأفرع', 'بأكل', 'بأكله', 'بأكلهن', 'بألب', 'بألوان', 'بأمتياز', 'بأن', 'بأنك', 'بأنها', 'بأنهم', 'بأيام', 'بإختياره', 'بإطلالته', 'بإظهار', 'بإكلاته', 'بإمتياز', 'بإمكانك', 'بئر', 'باب', 'بابا', 'باجمل', 'باحضان', 'باختصار', 'باد', 'بار', 'بارتياده', 'بارد', 'باردة', 'باركينغ', 'باريس', 'باس', 'باسئله', 'باستطاعتك', 'باستمرار', 'باسعار', 'باسم', 'باشعة', 'باص', 'باصطحاب', 'باطباقهم', 'باغلاقه', 'باقة', 'باقي', 'باكرا', 'باكل', 'باكلا', 'باكلو', 'بال', 'بالأخص', 'بالأسعار', 'بالأكل', 'بالإضافة', 'بالإقامة', 'بالاخص', 'بالارتياح', 'بالاركيلة', 'بالاستقبال', 'بالاسعار', 'بالاصناف', 'بالاضافة', 'بالاضافه', 'بالاطفال', 'بالاطلاله', 'بالاكل', 'بالاماكن', 'بالانكليزي', 'بالبال', 'بالبخشيش', 'بالبرجر', 'بالبنان', 'بالبيت', 'بالتاريخ', 'بالتجارب', 'بالتجربه', 'بالتدخين', 'بالتصميم', 'بالتعليقات', 'بالتوصيل', 'بالتوفيق', 'بالجالسين', 'بالجبن', 'بالجبنة', 'بالجلوس', 'بالجو', 'بالجودة', 'بالجوع', 'بالحيطان', 'بالخدمة', 'بالخدمه', 'بالدار', 'بالدخول', 'بالدفئ', 'بالدوام', 'بالذات', 'بالذكر', 'بالذهاب', 'بالراس', 'بالرغم', 'بالزاوية', 'بالزبائن', 'بالزباين', 'بالزبون', 'بالزبون_', 'بالزوار', 'بالزيارة', 'بالزيت', 'بالسعر', 'بالسهرة', 'بالسوق', 'بالش', 'بالشرق', 'بالشعبية', 'بالشمع', 'بالشهر', 'بالصالة', 'بالصالحين', 'بالصالحينق', 'بالضبط', 'بالضم', 'بالطابق', 'بالطحينة', 'بالطعمة', 'بالطلب', 'بالطلبات', 'بالطلة', 'بالعالم', 'بالعجين', 'بالعربي', 'بالعسل', 'بالعصافير', 'بالعكس', 'بالغنى', 'بالفاكهة', 'بالفصحة', 'بالفعل', 'بالفندق', 'بالفواكه', 'بالقاورما', 'بالقدوم', 'بالقرب', 'بالقوانين', 'بالكافيه', 'بالكامل', 'بالكرم', 'باللباقة', 'باللبنان', 'باللحم', 'باللحمة', 'باللهجة', 'بالمأكولات', 'بالمئه', 'بالماضي', 'بالماكولات', 'بالمال', 'بالمجمل', 'بالمحافظة', 'بالمرة', 'بالمستوى', 'بالمطاعم', 'بالمطبخ', 'بالمطعم', 'بالمقارنة', 'بالمكان', 'بالمناظر', 'بالمنطقة', 'بالمنطقه', 'بالموضوع', 'بالناس', 'بالنسبة', 'بالنسبه', 'بالنص', 'بالنظافة', 'بالنظر', 'بالنكهة', 'بالنهار', 'بالهدوء', 'بامتياز', 'بامكانك', 'بان', 'بانه', 'بانورامية', 'باهظ', 'باهظة', 'بايته', 'بباريس', 'بباقي', 'ببرامجكم', 'ببساطة', 'ببستاهل', 'ببعتلو', 'ببلاش', 'ببيتك', 'ببيروت', 'بة', 'بتاخد', 'بتاخذ', 'بتاريخ', 'بتاريخه', 'بتاكل', 'بتتاخر', 'بتتقدم', 'بتجربة', 'بتجربته', 'بتجربوا', 'بتجنان', 'بتجنن', 'بتجهيز', 'بتجو', 'بتحب', 'بتحترمو', 'بتحفظ', 'بترفع', 'بتركيا', 'بتستحي', 'بتسريع', 'بتسوا', 'بتشرب', 'بتشرح', 'بتشكر', 'بتشكيلة', 'بتشهي', 'بتشوف', 'بتصير', 'بتطفي', 'بتعأد', 'بتعملوه', 'بتغدا', 'بتفكر', 'بتقدم', 'بتقديم', 'بتقرف', 'بتقصيرنا', 'بتقطش', 'بتقولولو', 'بتكبير', 'بتلاقوا', 'بتلبية', 'بتلك', 'بتمنالك', 'بتمنالكم', 'بتمنالكن', 'بتمنى', 'بتناول', 'بتنبسطو', 'بتنتسى', 'بتنجحو', 'بتندم', 'بتنزل', 'بتوصيل', 'بتوقف', 'بجلسة', 'بجمال', 'بجميع', 'بجنن', 'بجوار', 'بجودة', 'بجيبوها', 'بجيد', 'بحاجة', 'بحاجه', 'بحب', 'بحبه', 'بحبو', 'بحجة', 'بحد', 'بحر', 'بحري', 'بحريات', 'بحرية', 'بحريه', 'بحض', 'بحكي', 'بحياتكم', 'بحياتي', 'بحيث', 'بحيرة', 'بخاصة', 'بخدماته', 'بخدمة', 'بخلده', 'بخلق', 'بخيل', 'بد', 'بدأ', 'بدا', 'بداخله', 'بدارو', 'بداية', 'بدايتها', 'بدت', 'بدخان', 'بدخول', 'بدعم', 'بدك', 'بدكن', 'بدنا', 'بدها', 'بدو', 'بدوق', 'بدون', 'بدي', 'بديزاين', 'بديكوراته', 'بذات', 'بذكرك', 'بذهاب', 'برا', 'برافو', 'برامج', 'بربر', 'برتقال', 'برج', 'برجا', 'برجر', 'برجع', 'برحبوا', 'برخصه', 'برضاك', 'برغر', 'برقي', 'بركن', 'بركي', 'برمانا', 'برمانه', 'برنامج', 'برنامجك', 'بروائع', 'بروستد', 'بروعه', 'برى', 'برياني', 'برير', 'بزايدة', 'بزبائن', 'بزبون', 'بزياته', 'بزياراها', 'بزيارة', 'بزيارته', 'بزيارتي', 'بزياره', 'بزيت', 'بس', 'بساعتين', 'بسب', 'بسبب', 'بست', 'بسعر', 'بسكوت', 'بسم', 'بسيارة', 'بسيارتك', 'بسيط', 'بسيطة', 'بشارع', 'بشتغل', 'بشده', 'بشروط', 'بشع', 'بشكر', 'بشكل', 'بشهي', 'بشوف', 'بشوفها', 'بشوفهن', 'بشي', 'بصراحة', 'بصراحه', 'بصل', 'بصوت', 'بصوط', 'بصيدا', 'بضائع', 'بضاعة', 'بضاعه', 'بضل', 'بضلن', 'بضيعة', 'بط', 'بطئ', 'بطابع', 'بطاطا', 'بطالة', 'بطاولة', 'بطرابلس', 'بطريق', 'بطريقة', 'بطريقته', 'بطريقه', 'بطعم', 'بطعمة', 'بطعمه', 'بطلب', 'بطلت', 'بطول', 'بطيء', 'بطيئة', 'بطيئه', 'بطير', 'بطيه', 'بعئد', 'بعاليه', 'بعتقد', 'بعجين', 'بعد', 'بعدني', 'بعده', 'بعرف', 'بعرفو', 'بعشق', 'بعض', 'بعضامووو', 'بعضها', 'بعضهم', 'بعطيك', 'بعطيني', 'بعطيه', 'بعقد', 'بعقدوا', 'بعقلين', 'بعكس', 'بعمل', 'بعونهم', 'بعيد', 'بعيدا', 'بعيدها', 'بغفلتنا', 'بغير', 'بـ4', 'بفتخر', 'بفرع', 'بفرن', 'بفريق', 'بفضل', 'بفوقيه', 'بقائمه', 'بقاروط', 'بقدر', 'بقدموها', 'بقرف', 'بقشطة', 'بقضائك', 'بقطع', 'بقلعة', 'بقهاوى', 'بقول', 'بقولو', 'بقياده', 'بقيت', 'بقيمة', 'بكافة', 'بكبة', 'بكتر', 'بكثير', 'بكرا', 'بكفيا', 'بكل', 'بكلشي', 'بكم', 'بكونوا', 'بل', 'بلألفريدو', 'بلا', 'بلاستك', 'بلاستيكية', 'بلاش', 'بلاقي', 'بلال', 'بلايات', 'بلباقة', 'بلباقي', 'بلبنان', 'بلجودة', 'بلخدمة', 'بلدنيا', 'بلدية', 'بلشارع', 'بلعالم', 'بلقمتهو', 'بلمئكولات', 'بلمستوى', 'بلمكان', 'بلنسبه', 'بلهدوء', 'بليز', 'بمأكولاته', 'بما', 'بمتياز', 'بمذاق', 'بمساحات', 'بمستوى', 'بمطعمهما', 'بمعنى', 'بمكان', 'بمواصفات', 'بموقع', 'بموقعه', 'بموقعو', 'بمياه', 'بميزته', 'بن', 'بنا', 'بنت', 'بنجيب', 'بنزل', 'بنسبه', 'بنص', 'بنصح', 'بنصحكم', 'بنظافة', 'بنفس', 'بنكهه', 'بنود', 'بنوصف', 'بنوع', 'بنوعيات', 'بنوعية', 'بنوعيها', 'به', 'بهآ', 'بها', 'بهاء', 'بهالشي', 'بهالمطعم', 'بهدوئه', 'بهذا', 'بهل', 'بهم', 'بهيدا', 'بهيك', 'بو', 'بوجود', 'بوظة', 'بوفيه', 'بي', 'بيأخذوا', 'بياخد', 'بياخدو', 'بياكل', 'بيبعصك', 'بيبل', 'بيت', 'بيتا', 'بيتاكل', 'بيتزا', 'بيتصلوا', 'بيتك', 'بيتنا', 'بيتنة', 'بيتي', 'بيجنن', 'بيجي', 'بيحبو', 'بيحترم', 'بيحط', 'بيحكي', 'بيحملو', 'بيخبرني', 'بيرجع', 'بيرد', 'بيروت', 'بيستاشيو', 'بيستاهل', 'بيسكر', 'بيشبه', 'بيشتغلو', 'بيشه', 'بيشهي', 'بيضحكو', 'بيطلع', 'بيع', 'بيعأد', 'بيعة', 'بيعجز', 'بيعرف', 'بيعرفوا', 'بيعقدو', 'بيعمر', 'بيعملوا', 'بيعملوها', 'بيقدم', 'بيقول', 'بيقولوا', 'بيقولولك', 'بيكري', 'بيكون', 'بيمشي', 'بيموت', 'بين', 'بينتزع', 'بيندم', 'بينزلو', 'بينصح', 'بينما', 'بينهم', 'بيه', 'بيوتهم', 'بيوتيفل', 'بيپا', 'ةالأركيلة', 'ةالفراكة', 'تأخذك', 'تأخر', 'تأخرت', 'تأخير', 'تأكل', 'تأكلها', 'تأمين', 'تأهيل', 'تابعوا', 'تاتو', 'تاخذ', 'تاخر', 'تاخرت', 'تاخير', 'تاريخ', 'تاريخي', 'تاريخية', 'تاسس', 'تاكل', 'تاكيد', 'تام', 'تامة', 'تاني', 'تانية', 'تانيه', 'تاون', 'تايغر', 'تببخت', 'تبحث', 'تبعتولي', 'تبعيت', 'تبولة', 'تبوله', 'تبيع', 'تتأخر', 'تتاخر', 'تتذوقه', 'تتصل', 'تتضمن', 'تتعشى', 'تتعطل', 'تتفوق', 'تتم', 'تتمتع', 'تتميز', 'تتوافر', 'تتوجه', 'تتوسطها', 'تجئر', 'تجارب', 'تجد', 'تجديد', 'تجديدها', 'تجر', 'تجرب', 'تجربة', 'تجربةرائعة', 'تجربته', 'تجربتي', 'تجربه', 'تجربو', 'تجلس', 'تجي', 'تجيني', 'تحاولو', 'تحبها', 'تحبوا', 'تحت', 'تحتاج', 'تحتاجه', 'تحترمو', 'تحتوي', 'تحتي', 'تحجز', 'تحذير', 'تحسين', 'تحصل', 'تحضر', 'تحضير', 'تحضيرها', 'تحطو', 'تحفه', 'تحياتن', 'تحياتي', 'تحية', 'تحيه', 'تختارها', 'تخدعكم', 'تخر', 'تخلو', 'تدخل', 'تدخلت', 'تذق', 'تذكرنا', 'تذهب', 'تذوقت', 'تراث', 'تراثى', 'تراثي', 'تراثية', 'ترتاح', 'ترتقي', 'ترتيب', 'ترجع', 'ترحم', 'تردد', 'تردو', 'ترسيم', 'ترضي', 'ترقصوا', 'تركي', 'تركيا', 'تركية', 'تركيه', 'ترميمه', 'تروح', 'تروحو', 'تروق', 'ترويجا', 'ترويقة', 'ترويقه', 'ترى', 'تريد', 'تريده', 'تريدها', 'تزور', 'تزورنا', 'تزوروه', 'تزوروها', 'تستحق', 'تستطيع', 'تستطيعون', 'تستقبلك', 'تسر', 'تسلاية', 'تسليم', 'تسممت', 'تسهلو', 'تسود', 'تسوق', 'تشاء', 'تشبيح', 'تشتغل', 'تشتهر', 'تشجيعية', 'تشعر', 'تشغيل', 'تشكل', 'تشكن', 'تشكيلة', 'تشكيله', 'تشوف', 'تشوفو', 'تشيلو', 'تصحبها', 'تصريحات', 'تصف', 'تصل', 'تصلح', 'تصليح', 'تضم', 'تضيع', 'تضييع', 'تطلب', 'تطلبه', 'تطلبها', 'تطلبو', 'تطلبون', 'تطلع', 'تطلق', 'تطوفكم', 'تطوير', 'تعاطيه', 'تعالي', 'تعاليم', 'تعامل', 'تعاملا', 'تعاملن', 'تعامله', 'تعاملهم', 'تعباني', 'تعتبر', 'تعتير', 'تعجب', 'تعجبني', 'تعد', 'تعدغالية', 'تعرض', 'تعرفت', 'تعشق', 'تعكس', 'تعلموا', 'تعليق', 'تعليقي', 'تعمل', 'تعو', 'تعوض', 'تعيسة', 'تغير', 'تغيير', 'تغييرا', 'تفضل', 'تفكر', 'تفوت', 'تفوتوا', 'تفويت', 'تقارن', 'تقاليده', 'تقدر', 'تقدم', 'تقدمله', 'تقديم', 'تقريبا', 'تقشعر', 'تقعد', 'تقفيص', 'تقليدية', 'تقييم', 'تكاد', 'تكتمل', 'تكريم', 'تكس', 'تكفوا', 'تكلفه', 'تكلو', 'تكون', 'تلاقي', 'تلاقيهم', 'تلبية', 'تلفت', 'تلفزيون', 'تلك', 'تلم', 'تلوناتن', 'تم', 'تمام', 'تماما', 'تمتع', 'تمحها', 'تمر', 'تمل', 'تمنع', 'تموت', 'تموووووت', 'تميز', 'تميزية', 'تمييز', 'تناسب', 'تنافسية', 'تناول', 'تناولنا', 'تناولهم', 'تنتظر', 'تنتقل', 'تنتهي', 'تنجلي', 'تندرس', 'تندمو', 'تندموا', 'تنذكر', 'تنزلو', 'تنزيل', 'تنسى', 'تنطر', 'تنظيف', 'تنظيم', 'تنظيمه', 'تنعاد', 'تنفيذ', 'تنقصه', 'تنكة', 'تنوع', 'تنين', 'تهانينا', 'تهكلو', 'تو', 'تواجهك', 'تواخزنا', 'تواصلهم', 'توب', 'توجد', 'توركي', 'توزيع', 'توصلولو', 'توصيل', 'توضعوا', 'توضيبه', 'توظيف', 'توفر', 'توفره', 'توفني', 'توفير', 'توقع', 'توقعت', 'توقعنا', 'توقف', 'تويستر', 'ثالثا', 'ثانيا', 'ثانية', 'ثروة', 'ثقة', 'ثلاث', 'ثلاثون', 'ثلاثين', 'ثمار', 'ثمن', 'ثمنه', 'ثمنها', 'ثوم', 'جأت', 'جاء', 'جابو', 'جافين', 'جالسة', 'جالسين', 'جامد', 'جامع', 'جامعة', 'جامعه', 'جانب', 'جاهزه', 'جاي', 'جايبين', 'جايي', 'جبد', 'جبدة', 'جبل', 'جبلية', 'جبنها', 'جثدة', 'جحجاح', 'جد', 'جدآ', 'جدأ', 'جدا', 'جداا', 'جدااا', 'جداااا', 'جدااااا', 'جداجداجدا', 'جداد', 'جداوخدمة', 'جددا', 'جددددا', 'جدمة', 'جدن', 'جديد', 'جديدة', 'جديده', 'جدٱ', 'جر', 'جرب', 'جربت', 'جربتو', 'جربو', 'جربوا', 'جزءا', 'جزيرة', 'جزين', 'جسر', 'جلد', 'جلسات', 'جلساته', 'جلسة', 'جلست', 'جلسته', 'جلسنا', 'جلسه', 'جلوس', 'جلي', 'جمال', 'جمبع', 'جمبل', 'جمعتنا', 'جملة', 'جميع', 'جميعا', 'جميل', 'جميلة', 'جميللللللل', 'جميله', 'جمييل', 'جمييييل', 'جنائن', 'جنب', 'جنة', 'جنن', 'جنينة', 'جهات', 'جهاد', 'جهة', 'جهل', 'جهنم', 'جهودكم', 'جو', 'جوا', 'جواء', 'جوانب', 'جواني', 'جوجل', 'جودة', 'جوز', 'جوعان', 'جوه', 'جوهم', 'جي', 'جيب', 'جيد', 'جيدا', 'جيدة', 'جيدجدا', 'جيده', 'جيدوجميل', 'جید', 'حابب', 'حاجات', 'حاجة', 'حارة', 'حاسس', 'حاصبيا', 'حاضرة', 'حافظ', 'حافل', 'حال', 'حالك', 'حاله', 'حالها', 'حالهم', 'حالو', 'حالي', 'حامض', 'حامضة', 'حبذا', 'حبيت', 'حبيته', 'حبيتو', 'حة', 'حتى', 'حتي', 'حتيت', 'حجز', 'حجزت', 'حجم', 'حجوزات', 'حجيج', 'حد', 'حدا', 'حداة', 'حدن', 'حدود', 'حديث', 'حديثا', 'حديقة', 'حديقه', 'حر', 'حراسة', 'حراسه', 'حرام', 'حرامي', 'حرامية', 'حراميه', 'حرة', 'حرقوص', 'حرك', 'حركة', 'حريري', 'حريك', 'حس', 'حساب', 'حسابك', 'حسابه', 'حسابي', 'حسب', 'حسن', 'حسنة', 'حسيته', 'حسين', 'حشري', 'حضرموت', 'حطيتها', 'حفلات', 'حق', 'حقا', 'حقق', 'حقنا', 'حقها', 'حقو', 'حقيقية', 'حكومي', 'حكي', 'حل', 'حلاب', 'حلال', 'حلاوة', 'حلاوه', 'حلبي', 'حلت', 'حلو', 'حلوا', 'حلوة', 'حلول', 'حلوه', 'حلوو', 'حلووه', 'حلووو', 'حلوووه', 'حلووووو', 'حلوووووو', 'حلوووووووو', 'حلوى', 'حلوي', 'حلويات', 'حليم', 'حماة', 'حمام', 'حمامات', 'حمص', 'حميم', 'حول', 'حولنا', 'حي', 'حيا', 'حية', 'حيث', 'حيثما', 'حيصير', 'حين', 'حيويتهم', 'حیث', 'خارج', 'خارجي', 'خارجية', 'خارجيه', 'خارقة', 'خاص', 'خاصباني', 'خاصة', 'خاصتي', 'خاصه', 'خاطئ', 'خاطئة', 'خالد', 'خالص', 'خاليه', 'خبرة', 'خبره', 'خبز', 'خبزة', 'خخخخخخخ', 'خدم', 'خدما', 'خدمات', 'خدماته', 'خدمة', 'خدمةجيدة', 'خدمته', 'خدمتها', 'خدمتهم', 'خدمتو', 'خدمه', 'خدمي', 'خدوم', 'خرافي', 'خربتو', 'خرج', 'خساره', 'خسرت', 'خص', 'خصامهما', 'خصوصا', 'خصوصي', 'خضار', 'خط', 'خطر', 'خطوة', 'خطيبتو', 'خطيره', 'خفيفه', 'خلاب', 'خلابة', 'خلابه', 'خلاصة', 'خلال', 'خلدة', 'خلصت', 'خلف', 'خلق', 'خلوقون', 'خلونا', 'خلوها', 'خليجية', 'خليفه', 'خمس', 'خمسة', 'خمور', 'خنزير', 'خي', 'خيار', 'خيال', 'خيالي', 'خيالية', 'خياليه', 'خيرو', 'خيمة', 'دآئما', 'دائم', 'دائما', 'دائنه', 'داخل', 'داخلا', 'داخليه', 'دار', 'دافئ', 'دافئة', 'داون', 'دايم', 'دايما', 'دة', 'دجاج', 'دجاجه', 'دخلت', 'دخولك', 'درجة', 'درك', 'دسمة', 'دعا', 'دعاء', 'دعايات', 'دعوة', 'دفء', 'دفع', 'دفعت', 'دفعنا', 'دقائق', 'دقتها', 'دقتو', 'دقيقة', 'دقيقه', 'دكاترة', 'دكاتره', 'دلار', 'دلب', 'دلفري', 'دلفير', 'دلفيريه', 'دليفري', 'دم', 'دمتم', 'دني', 'دوا', 'دوام', 'دور', 'دورات', 'دوشه', 'دوق', 'دولار', 'دولارفي', 'دوما', 'دون', 'ديب', 'ديعان', 'ديغول', 'ديكور', 'ديكورات', 'ديلفري', 'ديليفري', 'دين', 'ديننا', 'ذا', 'ذات', 'ذاتها', 'ذاتية', 'ذاك', 'ذالك', 'ذبح', 'ذقته', 'ذك', 'ذكريات', 'ذكي', 'ذلك', 'ذللك', 'ذنب', 'ذهبت', 'ذو', 'ذوات', 'ذوق', 'ذوى', 'ذوي', 'رأس', 'رأسها', 'رأع', 'رأي', 'رأينا', 'رأيي', 'رؤؤؤؤؤؤؤعة', 'رإعا', 'رئع', 'رئيسي', 'رئيسية', 'راءع', 'راءىع', 'رائ', 'رائحة', 'رائع', 'رائعا', 'رائعة', 'رائعةالمذاق', 'رائعع', 'رائعه', 'رائعين', 'رائهه', 'رااائع', 'راااائع', 'راااائعة', 'راااااءع', 'رااااائع', 'راااااائع', 'راااااااائع', 'راااااااااائع', 'راايق', 'راح', 'راحة', 'راحتك', 'راس', 'راسهم', 'راسي', 'راض', 'راضين', 'راع', 'راق', 'راقي', 'راقيا', 'راقية', 'راقيه', 'رايحة', 'رايق', 'رايقة', 'رايي', 'رب', 'ربح', 'ربع', 'ربما', 'ربي', 'ربيع', 'رجا', 'رجالي', 'رجعو', 'رجل', 'رجوع', 'رح', 'رحت', 'رحلة', 'رخص', 'رخيص', 'رخيصة', 'رد', 'رديئ', 'رررررائع', 'رز', 'رسالتي', 'رسمي', 'رسميه', 'رسول', 'رضا', 'رضاهم', 'رضى', 'رطوبه', 'رغم', 'رف', 'رفضت', 'رفضه', 'رفضوا', 'رفع', 'رفقاتي', 'رفيق', 'رقاقات', 'رمادي', 'رمان', 'رمزا', 'رمزية', 'رمضان', 'رمل', 'رملة', 'رملي', 'رميها', 'رهيب', 'رواء', 'روائ', 'روااااق', 'رواااق', 'رواد', 'رواده', 'رواق', 'روح', 'روشه', 'روعا', 'روعة', 'روعخ', 'روعه', 'روك', 'رومانسي', 'رومانسية', 'رومنسي', 'روني', 'روه', 'رووعة', 'روووعة', 'روووعه', 'رووووعة', 'رووووووعة', 'رووووووعه', 'روووووووعة', 'روووووووعه', 'روووووووووووووعة', 'روووووووووووووووووووووووووعه', 'رويا', 'رويترز', 'رياض', 'رياضي', 'ريان', 'ريت', 'ريتو', 'ريجيم', 'ريحة', 'ريحته', 'ريستوران', 'ريض', 'زاره', 'زبائن', 'زبائنه', 'زبالة', 'زباله', 'زبون', 'زبونة', 'زبونهن', 'زحمة', 'زحمه', 'زدت', 'زدنا', 'زراعتها', 'زرت', 'زرتها', 'زرتو', 'زرخيص', 'زرع', 'زعتر', 'زغار', 'زغرتا', 'زغيري', 'زفت', 'زم', 'زمان', 'زنجبيل', 'زنود', 'زهور', 'زهير', 'زوار', 'زوجة', 'زوجتى', 'زوجتي', 'زوره', 'زوماتو', 'زياد', 'زيادا', 'زيادة', 'زياده', 'زياراتي', 'زيارة', 'زيارتكم', 'زيارتنا', 'زيارته', 'زيارتي', 'زياره', 'زيرة', 'زيقدم', 'زين', 'زينة', 'زينه', 'سألت', 'سألته', 'سألنا', 'سؤالي', 'سئ', 'سئيه', 'ساااااحره', 'ساايح', 'سابقآ', 'سابقا', 'ساتكلم', 'ساحة', 'ساحر', 'ساحرة', 'ساحل', 'ساخنة', 'ساعات', 'ساعة', 'ساعتين', 'ساعه', 'ساعود', 'ساعيد', 'ساندوش', 'ساونا', 'سايح', 'سباكيتي', 'سبانخ', 'سببت', 'سبحان', 'سبع', 'سبيسيال', 'ست', 'ستايله', 'ستايلو', 'ستجده', 'ستطيل', 'ستكون', 'ستي', 'ستيك', 'ستيكس', 'سخن', 'سخي', 'سد', 'سدد', 'سر', 'سراحه', 'سراقين', 'سرعة', 'سرعه', 'سرفيس', 'سرور', 'سريع', 'سريعة', 'سريعه', 'سريعين', 'سرڤيس', 'سعاده', 'سعد', 'سعر', 'سعره', 'سعرها', 'سعرو', 'سفري', 'سكان', 'سكاي', 'سكني', 'سلام', 'سلبية', 'سلسلة', 'سلطة', 'سلف', 'سلفآ', 'سلم', 'سلو', 'سماق', 'سمر', 'سمرا', 'سمعان', 'سمعة', 'سمعنا', 'سمك', 'سمكات', 'سناك', 'سنة', 'سندوش', 'سندويش', 'سندويشات', 'سنه', 'سنوات', 'سنين', 'سهرات', 'سهرة', 'سهرتنا', 'سهره', 'سهل', 'سوبر', 'سورية', 'سوس', 'سوف', 'سوى', 'سى', 'سي', 'سيء', 'سيءة', 'سيئ', 'سيئة', 'سيئه', 'سياحى', 'سياحي', 'سياحية', 'سيارات', 'سيارة', 'سيخ', 'سيخين', 'سيدنا', 'سيصبح', 'سيغرد', 'سيكون', 'سينال', 'شئ', 'شاء', 'شاءالله', 'شاب', 'شاحني', 'شادي', 'شارج', 'شارع', 'شاطئ', 'شاطىء', 'شاطيء', 'شاكرين', 'شال', 'شامل', 'شاملة', 'شاهين', 'شاورما', 'شاورمتهم', 'شايفين', 'شب', 'شبه', 'شتى', 'شخص', 'شخصيا', 'شخصية', 'شراء', 'شربل', 'شرح', 'شرعي', 'شرقي', 'شرقية', 'شرقيه', 'شركة', 'شرمبي', 'شرو', 'شريف', 'شط', 'شعبي', 'شعبية', 'شعبيه', 'شعرة', 'شغل', 'شغلة', 'شغيل', 'شغيلة', 'شفت', 'شفتها', 'شفتهم', 'شقف', 'شقيقان', 'شقيقه', 'شك', 'شكان', 'شكر', 'شكرا', 'شكرن', 'شكل', 'شكور', 'شكوى', 'شلالات', 'شم', 'شمس', 'شمص', 'شنيعة', 'شهادة', 'شهادتنا', 'شهد', 'شهر', 'شهريار', 'شهي', 'شهيا', 'شهية', 'شهير', 'شهيه', 'شو', 'شوارع', 'شوارمة', 'شواطينا', 'شواي', 'شوبات', 'شوبت', 'شوبدي', 'شوربة', 'شورما', 'شوفت', 'شوفكن', 'شوكة', 'شوكولا', 'شوووي', 'شوي', 'شويه', 'شى', 'شي', 'شيء', 'شيءممتاز', 'شيئ', 'شيشة', 'شيعار', 'شيك', 'شيي', 'صاج', 'صاحب', 'صاحبة', 'صاحبت', 'صادفتها', 'صار', 'صارت', 'صالة', 'صالح', 'صاله', 'صباح', 'صباحية', 'صبايا', 'صبحي', 'صبرا', 'صجة', 'صح', 'صحة', 'صحن', 'صحي', 'صحية', 'صحيح', 'صحيحه', 'صحيه', 'صخب', 'صخرة', 'صدمة', 'صدور', 'صدىء', 'صراحة', 'صرت', 'صعب', 'صعبة', 'صعبه', 'صعيد', 'صغر', 'صغير', 'صغيرة', 'صغيره', 'صف', 'صفات', 'صفر', 'صل', 'صلى', 'صناعة', 'صناعه', 'صناعية', 'صندوق', 'صنف', 'صهرة', 'صهيون', 'صواني', 'صوت', 'صوتهم', 'صور', 'صورة', 'صورت', 'صوص', 'صيانه', 'صيدا', 'صير', 'صيني', 'ضابط', 'ضبط', 'ضجة', 'ضرب', 'ضروري', 'ضعاف', 'ضعيفة', 'ضغط', 'ضفاف', 'ضل', 'ضمن', 'ضهر', 'ضيافته', 'ضيعة', 'ضيق', 'ضيقة', 'طائر', 'طائفيه', 'طابع', 'طابعا', 'طابق', 'طازة', 'طازج', 'طازجة', 'طازجه', 'طازه', 'طاقم', 'طالب', 'طالبونا', 'طالعه', 'طامعين', 'طاولات', 'طاولة', 'طاوللت', 'طاوله', 'طاووق', 'طباخ', 'طبخ', 'طبعا', 'طبق', 'طبيب', 'طبية', 'طبيعة', 'طبيعي', 'طبيعية', 'طبيعيه', 'طبيين', 'طرابلس', 'طراز', 'طربية', 'طرح', 'طرق', 'طري', 'طريق', 'طريقة', 'طريقتها', 'طريقيتن', 'طعام', 'طعامه', 'طعم', 'طعمة', 'طعمتها', 'طعمتو', 'طعمتوا', 'طعمه', 'طعمي', 'طعمية', 'طفولتي', 'طلاب', 'طلال', 'طلب', 'طلبات', 'طلبت', 'طلبك', 'طلبنا', 'طلبه', 'طلبي', 'طلبيه', 'طلة', 'طلع', 'طلعت', 'طلعو', 'طله', 'طلوب', 'طلوووووع', 'طوال', 'طول', 'طويل', 'طويلة', 'طويله', 'طي', 'طياب', 'طيب', 'طيبا', 'طيبة', 'طيبه', 'طيبي', 'طيبين', 'طييب', 'ظرف', 'ظريف', 'ظل', 'عأئلي', 'عا', 'عائلات', 'عائله', 'عائلي', 'عائلية', 'عابسة', 'عابسين', 'عاد', 'عادة', 'عادل', 'عادي', 'عادية', 'عاديه', 'عازم', 'عاشت', 'عاصمة', 'عاطل', 'عاطله', 'عاطول', 'عال', 'عالاخر', 'عالبحححححر', 'عالبحر', 'عالتلفزيون', 'عالذوق', 'عالروسة', 'عالروشة', 'عالروشه', 'عالصخره', 'عالفاتورة', 'عالفحم', 'عالكعك', 'عالم', 'عالمطعم', 'عالمية', 'عالميه', 'عالناس', 'عالي', 'عالية', 'عاليه', 'عام', 'عامة', 'عامل', 'عامه', 'عامين', 'عب', 'عبارة', 'عباس', 'عباله', 'عبد', 'عبدالرحمن', 'عبدو', 'عبر', 'عبيروت', 'عتبر', 'عجئه', 'عجبني', 'عجقة', 'عجنب', 'عجيب', 'عجينة', 'عجينته', 'عجيييب', 'عجيييييييب', 'عحسابو', 'عدا', 'عداك', 'عدة', 'عدد', 'عددنا', 'عددها', 'عدس', 'عدم', 'عدهم', 'عدهن', 'عديده', 'عذب', 'عذرا', 'عرايس', 'عربي', 'عربية', 'عرس', 'عرض', 'عرضه', 'عرفته', 'عرفنا', 'عرمون', 'عروضات', 'عريق', 'عريقة', 'عزف', 'عزوجل', 'عزيمة', 'عسسل', 'عشاء', 'عشاق', 'عشاقو', 'عشت', 'عشتم', 'عشر', 'عشرات', 'عشرة', 'عشرون', 'عشيرتك', 'عشيه', 'عصائر', 'عصافير', 'عصام', 'عصري', 'عصرية', 'عصير', 'عطرها', 'عطس', 'عطوي', 'عطيته', 'عظيم', 'عفكرة', 'عل', 'علاقة', 'علامات', 'علب', 'علبك', 'علم', 'علما', 'علمت', 'على', 'علي', 'عليك', 'عليكم', 'عليكن', 'علين', 'علينا', 'عليه', 'عليها', 'عليهم', 'عم', 'عمادرس', 'عمال', 'عمرك', 'عمره', 'عمري', 'عمل', 'عمليات', 'عمليه', 'عن', 'عنا', 'عناء', 'عناصر', 'عناية', 'عنب', 'عنبر', 'عنجد', 'عند', 'عندكم', 'عندكن', 'عندما', 'عندن', 'عندنا', 'عنده', 'عندها', 'عندهم', 'عندو', 'عندي', 'عنصر', 'عنه', 'عنها', 'عنو', 'عنوان', 'عنوة', 'عهد', 'عود', 'عودتنا', 'عوده', 'عوضا', 'عي', 'عيادة', 'عيب', 'عيبه', 'عيد', 'عيش', 'عيلتي', 'عين', 'عيونك', 'غاااااااااالي', 'غاتو', 'غالبا', 'غالى', 'غالي', 'غالية', 'غاليه', 'غامق', 'غامقة', 'غاية', 'غايه', 'غداء', 'غذائيا', 'غربي', 'غربية', 'غرف', 'غرفة', 'غروب', 'غريب', 'غريبة', 'غزل', 'غسان', 'غشاشين', 'غصبا', 'غلاء', 'غلط', 'غلوجي', 'غلونجي', 'غنم', 'غنوج', 'غنوم', 'غني', 'غنية', 'غود', 'غي', 'غيث', 'غير', 'غيرك', 'غيره', 'فأجابونا', 'فأخذنا', 'فأصبحا', 'فؤاد', 'فإن', 'فاء', 'فائده', 'فائقه', 'فااااشل', 'فاتح', 'فاتحين', 'فاتوره', 'فاخر', 'فاخرة', 'فاخره', 'فاخى', 'فاسدة', 'فاشل', 'فاضررت', 'فاضي', 'فاضيه', 'فاطر', 'فاكهة', 'فالخدم', 'فالمبلغ', 'فاميلي', 'فانا', 'فانتبهوا', 'فبدلولنا', 'فبه', 'فتئه', 'فتدخلت', 'فترة', 'فتره', 'فتوش', 'فجاء', 'فجمال', 'فحم', 'فخامة', 'فخامه', 'فخر', 'فخم', 'فخمة', 'فخمه', 'فد', 'فدشيي', 'فذهبت', 'فرانسيسكوو', 'فراية', 'فرح', 'فرصة', 'فرع', 'فرعان', 'فرعهم', 'فرق', 'فرقتنا', 'فرن', 'فرنسا', 'فروج', 'فروع', 'فروعه', 'فريد', 'فريده', 'فريق', 'فسحة', 'فسيح', 'فشل', 'فضلا', 'فضلك', 'فضله', 'فطاير', 'فطلبت', 'فطور', 'فظيعة', 'فعالة', 'فعاليات', 'فعل', 'فعلا', 'فقال', 'فقالت', 'فقد', 'فقط', 'فكانك', 'فكرة', 'فكرتنى', 'فكرته', 'فكره', 'فكل', 'فل', 'فلا', 'فلافل', 'فلفول', 'فلكلوري', 'فلكية', 'فلم', 'فلوس', 'فليتفضل', 'فن', 'فنادق', 'فنان', 'فنجال', 'فنجان', 'فنجانك', 'فندق', 'فنرجو', 'فنزويلا', 'فني', 'فهل', 'فهم', 'فهمانين', 'فهو', 'فهي', 'فواكه', 'فوال', 'فوتبول', 'فوجئت', 'فوجدنا', 'فوق', 'فول', 'فوود', 'فوووق', 'فى', 'في', 'فيا', 'فية', 'فيروز', 'فيروزيات', 'فيك', 'فيكن', 'فيكون', 'فيما', 'فينا', 'فينى', 'فيه', 'فيها', 'فيهل', 'فيهن', 'فيو', 'قائم', 'قائمة', 'قاسية', 'قاسيه', 'قاعات', 'قاعة', 'قال', 'قبل', 'قبيسي', 'قد', 'قدر', 'قدرنا', 'قدم', 'قديش', 'قديم', 'قديمة', 'قرب', 'قررت', 'قرص', 'قرصين', 'قرف', 'قريب', 'قريبة', 'قريدس', 'قسطل', 'قسم', 'قسما', 'قصة', 'قصر', 'قضيت', 'قطرنجي', 'قطع', 'قطعة', 'قعدات', 'قعدة', 'قعدتو', 'قعده', 'قعدي', 'قل', 'قلب', 'قلة', 'قلت', 'قلعة', 'قلوب', 'قلوبنا', 'قليل', 'قليلا', 'قليلة', 'قمة', 'قنابة', 'قنينة', 'قهوة', 'قهوتكن', 'قهوته', 'قوائم', 'قوم', 'قوي', 'قوية', 'قويه', 'قياسا', 'قيمة', 'كأن', 'كأنك', 'كأنه', 'كأنهم', 'كابتن', 'كابوتشينو', 'كادر', 'كاذبة', 'كارت', 'كاري', 'كازينو', 'كافة', 'كافي', 'كافية', 'كافيه', 'كافيهات', 'كالعادة', 'كالعاده', 'كاليري', 'كامل', 'كان', 'كانا', 'كانة', 'كانت', 'كانك', 'كانه', 'كبابجي', 'كباقي', 'كباية', 'كببجي', 'كبة', 'كبتهم', 'كبسة', 'كبسه', 'كبه', 'كبير', 'كبيرة', 'كبيره', 'كبيييير', 'كت', 'كتب', 'كتبر', 'كتتير', 'كتر', 'كتمه', 'كتير', 'كتيرر', 'كتيررررررر', 'كتيررررررررر', 'كتيير', 'كتييير', 'كتيييير', 'كتييييير', 'كتييييييير', 'كتيييييييييير', 'كثرة', 'كثير', 'كثيرا', 'كثيرة', 'كثيررررر', 'كثيره', 'كخدمة', 'كدشة', 'كذا', 'كذلك', 'كرات', 'كراسيه', 'كرة', 'كرسبي', 'كرسي', 'كرم', 'كرمال', 'كرمالو', 'كرواسون', 'كريب', 'كريسبي', 'كريم', 'كريمة', 'كريهة', 'كزبرا', 'كسرعة', 'كطبيعة', 'كعك', 'كفائة', 'كفتة', 'كفته', 'ككتيل', 'كل', 'كلا', 'كلام', 'كلامنا', 'كلب', 'كلش', 'كلشي', 'كلمة', 'كلنا', 'كله', 'كلها', 'كلهم', 'كلو', 'كلووووو', 'كليا', 'كلينك', 'كليه', 'كم', 'كما', 'كمان', 'كمسلمين', 'كمشكلة', 'كمطعم', 'كمية', 'كميرات', 'كن', 'كنا', 'كنافة', 'كناية', 'كنت', 'كنتاكي', 'كنج', 'كنه', 'كهديا', 'كهرباء', 'كوردستان', 'كورنيش', 'كوضع', 'كوفي', 'كوكتيل', 'كول', 'كولش', 'كومنت', 'كون', 'كونه', 'كونهم', 'كوني', 'كويس', 'كويسة', 'كي', 'كيروز', 'كيف', 'كيفك', 'كيفو', 'كيك', 'كيلو', 'كينق', 'كييف', 'لأ', 'لأجيال', 'لأسباب', 'لأسرة', 'لأصحاب', 'لأفضل', 'لأكل', 'لأن', 'لأنه', 'لأنو', 'لأي', 'لئيمة', 'لا', 'لاءنو', 'لائحة', 'لائحه', 'لائق', 'لائقة', 'لابأس', 'لاباس', 'لابد', 'لاتحجب', 'لاترقى', 'لاتشعر', 'لاتقاوم', 'لاتوجد', 'لاحضار', 'لاحقا', 'لاحلا', 'لادارة', 'لادرس', 'لادوات', 'لاربع', 'لازال', 'لازم', 'لاستقبال', 'لاسيما', 'لاصطحاب', 'لاطلالتها', 'لافطار', 'لاقامة', 'لاكن', 'لامس', 'لامع', 'لان', 'لاننا', 'لانني', 'لانه', 'لانها', 'لانهم', 'لانهو', 'لانو', 'لاني', 'لاهالي', 'لاي', 'لايتعاملون', 'لايحتوي', 'لايرجد', 'لايروح', 'لايسمح', 'لايعلى', 'لايقين', 'لايوجد', 'لباقه', 'لباقي', 'لبعض', 'لبقون', 'لبقيت', 'لبكرا', 'لبن', 'لبنان', 'لبناني', 'لبنانية', 'لبنة', 'لبنه', 'لبني', 'لبنيه', 'لبيتزا', 'لبيروت', 'لبيشتغلو', 'لت', 'لتأخذ', 'لتجربة', 'لتجربته', 'لتخلص', 'لترك', 'لتشوف', 'لتطلع', 'لتطوير', 'لتفهمو', 'لتقديم', 'لتقضية', 'لتقول', 'لتكن', 'لتمضية', 'لتناول', 'لتنزه', 'لجلسات', 'لجلوس', 'لجمعات', 'لجميع', 'لجنينة', 'لجيد', 'لحاجة', 'لحاله', 'لحالو', 'لحتا', 'لحتى', 'لحجم', 'لحرقوص', 'لحسن', 'لحظة', 'لحم', 'لحمة', 'لحمربعجين', 'لحمه', 'لحوم', 'لخاانو', 'لخدمة', 'لخدمته', 'لخلق', 'لخير', 'لدا', 'لدرجة', 'لدى', 'لدينا', 'لديه', 'لديهم', 'لذا', 'لذة', 'لذذذذيذ', 'لذلك', 'لذوي', 'لذيدة', 'لذيذ', 'لذيذة', 'لذيذه', 'لذيذوطيب', 'لذيييذة', 'لذيييييذ', 'لزبائنه', 'لزبائنهما', 'لزيز', 'لزيزه', 'لسانك', 'لسباحة', 'لسبب', 'لسكان', 'لسماع', 'لسمعته', 'لسندويشات', 'لسنوك', 'لسهرا', 'لسهرة', 'لسيارات', 'لشارع', 'لشرب', 'لشواحن', 'لشيف', 'لصاحب', 'لصخرة', 'لطابق', 'لطالما', 'لطرابلس', 'لطعام', 'لطفاء', 'لطلب', 'لطيف', 'لطيفه', 'لعالم', 'لعامة', 'لعب', 'لعبات', 'لعدم', 'لعر', 'لعزف', 'لعشاق', 'لعناية', 'لعندكن', 'لعندو', 'لغلاء', 'لغير', 'لغيره', 'لفرع', 'لق', 'لقد', 'لقضاء', 'لقلعة', 'لقم', 'لقمة', 'لقمتك', 'لقمتو', 'لقمه', 'لقمي', 'لقيت', 'لك', 'لكان', 'لكتابة', 'لكثرة', 'لكرم', 'لكل', 'لكليه', 'لكم', 'لكن', 'لكنه', 'لكنها', 'لكونه', 'لكي', 'للkfc', 'للأرجيلة', 'للأسف', 'للأطفال', 'للأفراد', 'للأكل', 'للأولاد', 'للإدارة', 'للإفطار', 'للاستراحة', 'للاستماع', 'للاستمتاع', 'للاسعار', 'للاسف', 'للاصحاب', 'للاصدقاء', 'للاطفال', 'للاعتذار', 'للافراد', 'للاكل', 'للاكلات', 'للاكﻻت', 'للالكترونيات', 'للامهات', 'للاناقه', 'للاهتمام', 'للاولاد', 'للبحر', 'للبنان', 'للتبريد', 'للتحويطه', 'للترفيه', 'للترويقة', 'للتسلية', 'للتسوق', 'للتعرف', 'للتفتيش', 'للتفجير', 'للتقدمات', 'للتنزه', 'للتواصل', 'للجلوس', 'للحد', 'للحفلات', 'للحقيقة', 'للحلويات', 'للحمص', 'للخايه', 'للخدمة', 'للدجاج', 'للدفع', 'للدليفري', 'للديار', 'للذوق', 'للراحة', 'للرغيف', 'للرقابة', 'للرياضه', 'للرياضين', 'للزائر', 'للزبائن', 'للسمعة', 'للسهرات', 'للسوق', 'للسياحة', 'للسيارات', 'للسيارة', 'للسيد', 'للشاورما', 'للشباب', 'للشتاء', 'للشخص', 'للشق', 'للشمس', 'للشيف', 'للصخرة', 'للصراحة', 'للصغار', 'للصفة', 'للصلاة', 'للصيف', 'للطعام', 'للعائلات', 'للعائلة', 'للعائله', 'للعاصمة', 'للعامة', 'للعب', 'للعزائم', 'للعسكريين', 'للعلم', 'للعلى', 'للعوائل', 'للغاية', 'للغايه', 'للغداء', 'للغير', 'للـ', 'للفنان', 'للفول', 'للقائمين', 'للقاية', 'للقراء', 'للقراءة', 'للقعدات', 'للقمة', 'للقمي', 'للقييمين', 'للكبار', 'للكلمة', 'للمأكولات', 'للماضي', 'للماكولات', 'للمتعب', 'للمجمع', 'للمجموعات', 'للمحاضرات', 'للمدخن', 'للمدخنين', 'للمدرسة', 'للمدينة', 'للمزيد', 'للمسافر', 'للمستوى', 'للمشاوي', 'للمطعم', 'للمغتربين', 'للمفروشات', 'للمكان', 'للملابس', 'للممارسه', 'للمنزل', 'للمواصفات', 'للمواطن', 'للموظفة', 'للموظفين', 'للموعد', 'للموقع', 'للناس', 'للنظر', 'للهروب', 'للوالد', 'للوجبات', 'للوجبة', 'للوصول', 'للوطن', 'للي', 'لم', 'لما', 'لمجرد', 'لمحبي', 'لمختلف', 'لمدة', 'لمدير', 'لمدينة', 'لمستوى', 'لمسه', 'لمطعم', 'لمكان', 'لممارسة', 'لمن', 'لمناقشة', 'لمنطقة', 'لموسيقا', 'لموظفين', 'لموعد', 'لموقف', 'لن', 'لنا', 'لناحية', 'لنجرب', 'لنظافة', 'لنعمك', 'لنفرجي', 'لنوعي', 'له', 'لها', 'لهدوء', 'لهذا', 'لهذه', 'لهم', 'لهو', 'لهيك', 'لو', 'لوجبة', 'لوحة', 'لوديز', 'لور', 'لورا', 'لورى', 'لوف', 'لوقتنا', 'لولا', 'لونا', 'لونن', 'لي', 'ليت', 'ليتمكن', 'ليجو', 'ليجيبو', 'ليخبروك', 'ليذهب', 'ليرات', 'ليرة', 'ليرتقي', 'ليس', 'ليست', 'ليش', 'ليصير', 'ليطابق', 'ليل', 'ليلا', 'ليلة', 'ليله', 'ليلى', 'ليه', 'ليوصل', 'ليوصلولو', 'ليون', 'مأكولات', 'مأكولاته', 'مؤدب', 'مؤدبين', 'مؤسسة', 'مؤيد', 'ما', 'ماء', 'مائله', 'مائية', 'مااروعمك', 'مابتشبع', 'مابتشوف', 'مابخلص', 'مابدها', 'مابشبع', 'مابعرف', 'مابيردوا', 'ماتحتاجه', 'ماتحتاجونه', 'ماتذوقت', 'ماتش', 'ماتطلب', 'ماتعنيه', 'ماتنسى', 'ماجربتا', 'ماخصو', 'مادو', 'ماراح', 'مارحت', 'مارسيل', 'ماركات', 'ماركة', 'ماركت', 'مازات', 'مازال', 'مازته', 'ماشي', 'ماطيبه', 'ماعجبتني', 'ماعجبني', 'ماعدا', 'ماعم', 'مافي', 'مافيه', 'مافيي', 'ماكدولندز', 'ماكدونالدز', 'ماكلة', 'ماكن', 'ماكولات', 'ماكولاته', 'ماكولة', 'مالت', 'مالتة', 'مالته', 'مالح', 'مالديهم', 'ماله', 'مالي', 'ماني', 'ماهراشولاح', 'ماهو', 'ماهيي', 'مايخطر', 'مايدفع', 'مايرق', 'مايكون', 'مايميز', 'مايميزه', 'مايونيز', 'مبارح', 'مبارك', 'مباشرة', 'مباشره', 'مبالغ', 'مبتسمين', 'مبرد', 'مبرر', 'مبسوطه', 'مبكراا', 'مبلغ', 'مبهر', 'مبهرة', 'مبيد', 'مة', 'متألقة', 'متبل', 'متجاورة', 'متجر', 'متحضرا', 'متخاصمان', 'متخصص', 'متسخه', 'متطلبات', 'متعاون', 'متعاونين', 'متعددة', 'متغدية', 'متقاربة', 'متكامل', 'متكررة', 'متل', 'متلاصقة', 'متلاصقين', 'متلذذين', 'متميز', 'متميزة', 'متميزه', 'متميزون', 'متميزين', 'متناغم', 'متناول', 'متنفس', 'متنوع', 'متنوعة', 'متنوعه', 'متهالكة', 'متواضع', 'متوسط', 'متوسطة', 'متوسطه', 'متوفر', 'متوفرة', 'مثل', 'مثلا', 'مجانا', 'مجانية', 'مجبر', 'مجبور', 'مجبولة', 'مجرد', 'مجرصة', 'مجروحه', 'مجلس', 'مجلي', 'مجموعة', 'مجموعه', 'مجوي', 'محاصصات', 'محافظ', 'محاولة', 'محببه', 'محتاج', 'محتالين', 'محترف', 'محترفة', 'محترم', 'محترمة', 'محترمون', 'محترمين', 'محتكر', 'محجوز', 'محدد', 'محروقات', 'محروقه', 'محروقين', 'محسوبيات', 'محطة', 'محل', 'محلات', 'محلة', 'محله', 'محلي', 'محلية', 'محمد', 'محمود', 'محيط', 'مختلف', 'مختلفة', 'مختلفه', 'مخز', 'مخزن', 'مخصص', 'مخصصه', 'مخور', 'مدة', 'مدخله', 'مدخني', 'مدربين', 'مدرج', 'مدرسة', 'مدروس', 'مدروسة', 'مدروسه', 'مدني', 'مده', 'مدير', 'مدينة', 'مدينتنا', 'مدينتي', 'مذاق', 'مذكرة', 'مرا', 'مرات', 'مراتون', 'مرارا', 'مراعاة', 'مرافق', 'مراقب', 'مراقبة', 'مراكز', 'مراوح', 'مرة', 'مرتاح', 'مرتب', 'مرتباط', 'مرتبة', 'مرتبه', 'مرتفع', 'مرتفعة', 'مرتفعه', 'مرتو', 'مرتين', 'مرجعيون', 'مرحبا', 'مرحبين', 'مررره', 'مرره', 'مرسي', 'مرشد', 'مرق', 'مركز', 'مركزه', 'مره', 'مرو', 'مروريا', 'مروق', 'مروه', 'مريئة', 'مريت', 'مريته', 'مريح', 'مريحة', 'مريحه', 'مريحين', 'مريع', 'مريم', 'مزاجيين', 'مزارات', 'مزحوم', 'مزدحم', 'مزعج', 'مزعجة', 'مزعجه', 'مزعجين', 'مزوئين', 'مزيته', 'مزيد', 'مسؤول', 'مسؤولي', 'مسؤوليتي', 'مسؤولين', 'مسئوول', 'مساء', 'مسائية', 'مساحته', 'مساعدة', 'مسبة', 'مسبح', 'مسبحة', 'مسبق', 'مسبقا', 'مسبقة', 'مستحب', 'مستحيل', 'مستشفى', 'مستفز', 'مستقل', 'مستلم', 'مستوصف', 'مستوى', 'مسخرا', 'مسل', 'مسلما', 'مسلي', 'مسمى', 'مش', 'مشان', 'مشاوي', 'مشاويهم', 'مشترك', 'مشجعة', 'مشروب', 'مشروبات', 'مشكل', 'مشكلة', 'مشكلتنا', 'مشكلته', 'مشكلتي', 'مشكله', 'مشكورين', 'مشلحين', 'مشهور', 'مشهوره', 'مشوي', 'مشويات', 'مشوية', 'مشي', 'مصاري', 'مصداقية', 'مصر', 'مصطفى', 'مصفاة', 'مصلى', 'مطار', 'مطاعم', 'مطاعمها', 'مطبخ', 'مطبخه', 'مطرب', 'مطرح', 'مطعم', 'مطعمرائع', 'مطعمكم', 'مطعمنا', 'مطعمه', 'مطعمو', 'مطعمي', 'مطعيم', 'مطل', 'مطلة', 'مطله', 'مطم', 'مطولا', 'مظهر', 'مع', 'معا', 'معالم', 'معالي', 'معاملات', 'معاملة', 'معاملتهم', 'معامله', 'معبده', 'معتدلة', 'معجن', 'معجنات', 'معروف', 'معروفة', 'معزومة', 'معضم', 'معظم', 'معفنه', 'معقول', 'معقولة', 'معقوله', 'معك', 'معكم', 'معكون', 'معلم', 'معلومات', 'معمول', 'معنا', 'معنى', 'معه', 'معهن', 'معي', 'معينة', 'مغترب', 'مغتربين', 'مغربي', 'مغلبطين', 'مغلق', 'مغلقة', 'مغمض', 'مفتوح', 'مفحمة', 'مفروض', 'مفروكة', 'مفضل', 'مفكر', 'مفيد', 'مقابل', 'مقابلة', 'مقارنة', 'مقارنه', 'مقاهي', 'مقبلات', 'مقبول', 'مقبولا', 'مقبولة', 'مقبوله', 'مقدمة', 'مقرف', 'مقززة', 'مقصوصين', 'مقطع', 'مقطوعه', 'مقلعط', 'مقلي', 'مقلية', 'مقنع', 'مقهى', 'مقهي', 'مقومات', 'مكاان', 'مكان', 'مكاني', 'مكتبة', 'مكتبه', 'مكتن', 'مكسنا', 'مكسور', 'مكلف', 'مكلفة', 'مكونات', 'مكوناتها', 'ملئ', 'ملائم', 'ملابس', 'ملاحظات', 'ملاحظة', 'ملاصق', 'ملحمة', 'ملعب', 'ملفات', 'ملفوف', 'ملك', 'ملهى', 'ملوث', 'مليء', 'مليئة', 'مليح', 'مما', 'ممان', 'ممتاااز', 'ممتاذ', 'ممتاذة', 'ممتار', 'ممتاز', 'ممتازة', 'ممتاززززجدا', 'ممتازه', 'ممتازين', 'ممتاو', 'ممتع', 'ممتعآ', 'ممتعة', 'ممتعه', 'ممرات', 'ممشى', 'ممكن', 'ممممم', 'ممممممم', 'ممممممممممممتاز', 'ممناز', 'ممنتاز', 'ممنوع', 'مميز', 'مميزة', 'مميزه', 'من', 'منا', 'مناخ', 'مناسب', 'مناسبة', 'مناسبه', 'مناسبين', 'مناضر', 'مناطق', 'مناظر', 'منافسة', 'مناقيش', 'منة', 'منتجع', 'منتزه', 'منتضر', 'منتقه', 'منتهى', 'منجي', 'منحب', 'منحت', 'مندي', 'منذ', 'منزلك', 'منزلية', 'منسقة', 'منصفا', 'منطقة', 'منطقه', 'منطقية', 'منطلبو', 'منظر', 'منظرهم', 'منظم', 'منع', 'منفصلة', 'منقذين', 'منقرضة', 'منقوشة', 'منك', 'منكرم', 'منكم', 'منموت', 'منه', 'منها', 'منهما', 'منو', 'منوعة', 'منون', 'منووشة', 'مني', 'منيح', 'منيحا', 'منيحة', 'منيحه', 'منير', 'منيزه', 'مهارة', 'مهتم', 'مهذبين', 'مهزبين', 'مهضوم', 'مهضوووم', 'مهم', 'مهما', 'مهملة', 'مهمه', 'مهنة', 'مهند', 'مهيئ', 'مو', 'مواقع', 'مواقغ', 'مواقف', 'موج', 'موجه', 'موجود', 'موجودة', 'موخيفة', 'موديرن', 'موسى', 'موسيقى', 'موسيقيه', 'موضبة', 'موضوع', 'موظف', 'موظفة', 'موظفون', 'موظفي', 'موظفين', 'موفقين', 'موقع', 'موقعة', 'موقعه', 'موقعها', 'موقف', 'مولع', 'موميز', 'مياه', 'ميبسه', 'ميت', 'ميزه', 'ميسور', 'مين', 'مينتي', 'ميني', 'نأمل', 'نااايس', 'ناجي', 'ناحية', 'ناحيه', 'نادي', 'نار', 'ناس', 'ناشفة', 'ناشفه', 'ناصحة', 'ناصر', 'ناضجة', 'ناضفة', 'ناطر', 'نافوره', 'ناقص', 'ناكل', 'نامل', 'نانا', 'ناهي', 'ناي', 'نايس', 'نبع', 'نبيل', 'نبينا', 'نتسبح', 'نتعرف', 'نتغدا', 'نتمنى', 'نجاح', 'نجرب', 'نجري', 'نجم', 'نجمة', 'نجمتين', 'نجوم', 'نجيم', 'نحاول', 'نحصل', 'نحفظهم', 'نحمتنا', 'نحن', 'نخرب', 'نخلصها', 'ندفعلن', 'نذهب', 'نرجو', 'نرجيله', 'نرحب', 'نريده', 'نزل', 'نزلت', 'نزهة', 'نزوئين', 'نزور', 'نزيه', 'نسأل', 'نسألك', 'نسائي', 'نسبة', 'نسبيا', 'نسكافيه', 'نسوان', 'نشعر', 'نشكر', 'نص', 'نصاب', 'نصابين', 'نصاص', 'نصب', 'نصبو', 'نصبوا', 'نصف', 'نصفين', 'نصوص', 'نصير', 'نضافة', 'نضافه', 'نضرا', 'نضيف', 'نطرنا', 'نطلب', 'نظافة', 'نظافه', 'نظرا', 'نظري', 'نظيف', 'نظيفة', 'نظييف', 'نعم', 'نعملك', 'نعود', 'نغير', 'نفذ', 'نفس', 'نفسك', 'نفسه', 'نقاء', 'نقص', 'نقضي', 'نقطة', 'نقل', 'نقله', 'نقودي', 'نقول', 'نقي', 'نكهة', 'نكهته', 'نكهه', 'نكون', 'نللامة', 'نمرودة', 'ننسى', 'ننصح', 'ننصدم', 'نه', 'نهار', 'نهديها', 'نهر', 'نهري', 'نهفاتها', 'نورا', 'نوعا', 'نوعه', 'نوعها', 'نوعية', 'ني', 'نيئ', 'نية', 'نيسكافيه', 'نيوز', 'نیست', 'هئ', 'ها', 'هاتف', 'هاد', 'هادء', 'هادءة', 'هادئ', 'هادئة', 'هادئه', 'هادى', 'هادىء', 'هادي', 'هاديء', 'هاذ', 'هاك', 'هالاكل', 'هالطريقة', 'هالمحل', 'هالمطعم', 'هالمكان', 'هام', 'هاني', 'هاي', 'هجم', 'هدئ', 'هدوئ', 'هدواء', 'هديك', 'هذا', 'هذاه', 'هذه', 'هزا', 'هك', 'هكذا', 'هل', 'هلال', 'هلق', 'هم', 'همبرغر', 'همبركيل', 'هن', 'هنا', 'هناك', 'هنالك', 'هنية', 'هنيه', 'هو', 'هوتشكن', 'هون', 'هونيك', 'هوه', 'هوي', 'هي', 'هيدا', 'هيك', 'هيي', 'وآخر', 'وآله', 'وآمنة', 'وأبداا', 'وأتبع', 'وأتعرف', 'وأجرى', 'وأجعلنا', 'وأجواء', 'وأحلا', 'وأحواض', 'وأخص', 'وأدخل', 'وأستجا', 'وأسعار', 'وأسعاره', 'وأشجار', 'وأشهى', 'وأطباقه', 'وأطلالة', 'وأطلاله', 'وأطيب', 'وأعملها', 'وأغلق', 'وأفضل', 'وأقل', 'وأكتر', 'وأكثر', 'وأكل', 'وأكله', 'وأكلو', 'وألوان', 'وأنس', 'وأنصح', 'وأنصحكم', 'وأنظف', 'وأولادي', 'وأيضا', 'وؤائع', 'وإبان', 'وإدارة', 'وإستقبال', 'وإلى', 'وا', 'وائع', 'وائل', 'وااااااسعه', 'وابخل', 'وابو', 'واتمنا', 'واتمنى', 'واثقة', 'واجا', 'واجبة', 'واجمل', 'واجواء', 'واحبهم', 'واحد', 'واحدا', 'واحدة', 'واحده', 'واحذية', 'واحسن', 'واحص', 'واحلا', 'واحلااااااا', 'واحلاها', 'واحلى', 'واحمد', 'واحيانا', 'واخبرته', 'واخدمه', 'واخذ', 'واخطاء', 'واخلاق', 'واخلى', 'وادارة', 'وادامتها', 'وادوات', 'وادي', 'واراجيل', 'واراقي', 'وارخص', 'واردت', 'وارضيتها', 'وارقى', 'واركيله', 'واروع', 'وازدحام', 'واسترجعت', 'واستعادة', 'واستقبالهم', 'واسرع', 'واسع', 'واسعار', 'واسعارة', 'واسعاره', 'واسعة', 'واسم', 'واسهاره', 'واشكر', 'واشهى', 'واشهي', 'واصابتها', 'واصالة', 'واصحاب', 'واصحابي', 'واصدقاء', 'واصطف', 'واصناف', 'واضح', 'واطباق', 'واطعمة', 'واطلالة', 'واطلالته', 'واطلاله', 'واطيب', 'واطيبها', 'واعتناء', 'واعجبني', 'واغفر', 'واغلى', 'وافخم', 'وافر', 'وافضل', 'وافلفل', 'واقل', 'واكتر', 'واكثر', 'واكثروردية', 'واكسترا', 'واكل', 'واكلات', 'واكلاته', 'واكلة', 'واكله', 'واكلها', 'واكلو', 'واكيد', 'وال', 'والآخرة', 'والأجواء', 'والأدباء', 'والأرض', 'والأرغيله', 'والأركيلة', 'والأركيلي', 'والأساس', 'والأستمرار', 'والأسعار', 'والأسماك', 'والأطعمة', 'والأكل', 'والأنستقرام', 'والأهم', 'والإطلاله', 'والاجبان', 'والاجتماعات', 'والاجنبية', 'والاجود', 'والاحترام', 'والاحتفاظ', 'والاحد', 'والاختصاصات', 'والارجيلة', 'والارجيله', 'والاركيله', 'والازرق', 'والاستاف', 'والاستقبال', 'والاسعار', 'والاسقبال', 'والاسماك', 'والاسهال', 'والاصالة', 'والاصناف', 'والاطباق', 'والاطفال', 'والاطلالة', 'والافراد', 'والافضل', 'والافطار', 'والاكل', 'والالعاب', 'والانارة', 'والانستقرام', 'والانسه', 'والانظف', 'والاهتمام', 'والاهدنية', 'والاهلي', 'والاهم', 'والبارات', 'والبحر', 'والبرغر', 'والبرنامج', 'والبروستد', 'والبروغرام', 'والبسه', 'والبطاطا', 'والبعض', 'والبقلة', 'والبنات', 'والبوضا', 'والبوظة', 'والبوفيه', 'والبيئة', 'والبيض', 'والتاريخي', 'والتبولة', 'والتدخين', 'والترتيب', 'والتشيز', 'والتعرض', 'والتقدم', 'والتلوث', 'والتمتع', 'والتوديعات', 'والتوفيق', 'والتي', 'والثاني', 'والثانيه', 'والجاتو', 'والجبنه', 'والجلسات', 'والجلسة', 'والجلسه', 'والجمال', 'والجميل', 'والجودة', 'والجوده', 'والحارة', 'والحفلات', 'والحقني', 'والحلا', 'والحلو', 'والحلويات', 'والحمام', 'والحمص', 'والحنين', 'والخارج', 'والختيار', 'والخدمات', 'والخدمة', 'والخدمه', 'والخضار', 'والد', 'والدجاج', 'والدهما', 'والدي', 'والديكور', 'والذ', 'والذكرايات', 'والذها', 'والذهاب', 'والذي', 'والرائعة', 'والراحة', 'والرمل', 'والرملة', 'والزغرتاوية', 'والزمان', 'والزهر', 'والزهري', 'والساندويتشات', 'والسباحة', 'والسبرماركت', 'والسجائر', 'والسجون', 'والسرفيس', 'والسعر', 'والسعربالنسبة', 'والسكاير', 'والسلاد', 'والسلطات', 'والسلطة', 'والسمك', 'والسندويشات', 'والسودة', 'والسيرڤس', 'والشاطئ', 'والشاورما', 'والشاي', 'والشباب', 'والشراب', 'والشرب', 'والشرقية', 'والشكر', 'والشهية', 'والشورما', 'والشوكولا', 'والشيشة', 'والشيشه', 'والشيف', 'والصحة', 'والصحية', 'والصغار', 'والصور', 'والصورة', 'والصوصة', 'والصيدلي', 'والضاحية', 'والضيافه', 'والط', 'والطازج', 'والطاقم', 'والطبيعة', 'والطرق', 'والطعام', 'والطعم', 'والطعمة', 'والطلبات', 'والعآملين', 'والعائلات', 'والعائلية', 'والعالم', 'والعاملين', 'والعدة', 'والعصائر', 'والعمال', 'والعوائل', 'والغاء', 'والغلاء', 'والفاكهة', 'والفتة', 'والفته', 'والفتوش', 'والفحم', 'والفرز', 'والفرن', 'والفقراء', 'والفواكه', 'والفول', 'والفيليه', 'والقريدس', 'والقطارات', 'والقعدات', 'والقعدة', 'والقعده', 'والقلعه', 'والقمة', 'والقول', 'والكادر', 'والكباب', 'والكبار', 'والكبة', 'والكراسين', 'والكرسبي', 'والكرسونيه', 'والكل', 'والكلاسيكية', 'والكمية', 'والكنافة', 'والكوفى', 'والكومبيوتر', 'والل', 'واللائحة', 'واللبناني', 'واللحم', 'واللحوم', 'واللقاءآت', 'والله', 'والمؤمنات', 'والمؤمنين', 'والمازات', 'والمازة', 'والماكولات', 'والمباني', 'والمتبرع', 'والمتنوعة', 'والمثالية', 'والمحجبات', 'والمذاق', 'والمرة', 'والمستشفيات', 'والمشاركة', 'والمشاوي', 'والمشروبات', 'والمشوي', 'والمشويات', 'والمصانع', 'والمضيفين', 'والمطارات', 'والمطاعم', 'والمطعم', 'والمطعمان', 'والمطل', 'والمعاملة', 'والمعامله', 'والمعجنات', 'والمقاهى', 'والمقبلات', 'والمكان', 'والمكونات', 'والملفوف', 'والمميزة', 'والمنتجات', 'والمنظر', 'والمهم', 'والمواقف', 'والموظفون', 'والموظفين', 'والموقع', 'والمياس', 'والناس', 'والنت', 'والنجاح', 'والنخاعات', 'والندوات', 'والنركيلة', 'والنظافة', 'والنظافه', 'والنفسية', 'والنوعية', 'والهدوء', 'والهندبة', 'والهواء', 'والوجبات', 'والوجبة', 'والوحيد', 'والى', 'وام', 'وان', 'وانا', 'واناره', 'وانبسطنا', 'وانت', 'وانتا', 'وانجح', 'وانصح', 'وانصحكم', 'وانظف', 'وانواع', 'واني', 'وانيق', 'واهلا', 'واهلها', 'واهم', 'واو', 'واولادي', 'واووو', 'وايضا', 'واﻻطفال', 'واﻻكل', 'وبأسعار', 'وبأمانة', 'وبإسعر', 'وبإمكانك', 'وباقي', 'وبالأخص', 'وبالاخص', 'وبالاطلالة', 'وبالذات', 'وبالعشيه', 'وبالمازة', 'وبايت', 'وبتجنن', 'وبتشكر', 'وبتقدموه', 'وبتمنى', 'وبتوفيق', 'وبجوده', 'وبحب', 'وبحرها', 'وبحسب', 'وبحمده', 'وبخيل', 'وبدون', 'وبدي', 'وبذكر', 'وبراس', 'وبرامجه', 'وبرغر', 'وبس', 'وبشده', 'وبشكر', 'وبطيئة', 'وبعد', 'وبعض', 'وبقوه', 'وبلا', 'وبليلة', 'وبمقالات', 'وبنصح', 'وبيحسبا', 'وبيضل', 'وتأخ', 'وتأخر', 'وتأخرو', 'وتأخير', 'وتاريخه', 'وتتحدث', 'وتتناسب', 'وتجربة', 'وتحتوي', 'وتراثي', 'وتراس', 'وترتيب', 'وترتيبه', 'وترحيب', 'وتركنا', 'وترويقة', 'وترى', 'وتزوزو', 'وتزوير', 'وتستحق', 'وتشكل', 'وتشكيلة', 'وتشكيلته', 'وتصميمه', 'وتطل', 'وتعامل', 'وتعاملهم', 'وتعشا', 'وتعشو', 'وتغنوا', 'وتغيير', 'وتفاجأت', 'وتفاجئت', 'وتقديمها', 'وتكرارا', 'وتلبي', 'وتلذذ', 'وتمضية', 'وتميز', 'وتناولنا', 'وتنوع', 'وتنوعها', 'وتهذيب', 'وثانيا', 'وجالسة', 'وجايبين', 'وجباب', 'وجبات', 'وجباته', 'وجبة', 'وجبه', 'وجدا', 'وجدت', 'وجربت', 'وجلب', 'وجلسا', 'وجلسات', 'وجلسة', 'وجلست', 'وجلسه', 'وجلوس', 'وجمال', 'وجمعات', 'وجميع', 'وجميل', 'وجميلة', 'وجميله', 'وجنا', 'وجهة', 'وجو', 'وجوا', 'وجود', 'وجودة', 'وجوده', 'وجومحترم', 'وجوه', 'وجيد', 'وجيدة', 'وجيده', 'وحبينا', 'وحتى', 'وحجز', 'وحجم', 'وحجمها', 'وحدة', 'وحده', 'وحدي', 'وحديثة', 'وحديقة', 'وحرامية', 'وحسن', 'وحضاري', 'وحضرمية', 'وحظك', 'وحفلات', 'وحلال', 'وحلو', 'وحلوايات', 'وحلوة', 'وحمام', 'وحمص', 'وحميم', 'وخارجيه', 'وخاصة', 'وخاصتا', 'وخاصه', 'وخالق', 'وخالي', 'وخبره', 'وخبز', 'وخجمة', 'وخدمات', 'وخدماته', 'وخدمة', 'وخدمةممتازة', 'وخدمته', 'وخدمه', 'وخذوا', 'وخرج', 'وخسيتم', 'وخصوصا', 'وخضار', 'وخضرة', 'وخفيفة', 'وخلاب', 'وخمسه', 'وخيارات', 'ودائما', 'ودراسة', 'ودعائنا', 'ودفعنا', 'ودود', 'ودودين', 'وديكور', 'وديكوره', 'وذ', 'وذات', 'وذبح', 'وذو', 'وذوق', 'وذوي', 'ورأي', 'وراءع', 'ورائحه', 'ورائع', 'ورائعة', 'ورائعه', 'وراحة', 'وراق', 'وراقي', 'وراقية', 'ورايق', 'ورايي', 'ورجع', 'ورح', 'ورحمة', 'ورحيقها', 'ورخيص', 'ورزق', 'ورزقا', 'ورغم', 'ورق', 'ورقابه', 'ورمان', 'ورمنسي', 'ورواق', 'ورومانسي', 'وريحتو', 'وزارة', 'وزاكي', 'وزحمه', 'وزهور', 'وزياده', 'وسألناهم', 'وساحة', 'وسالنا', 'وسايط', 'وستاف', 'وسخ', 'وسخة', 'وسرعة', 'وسريع', 'وسريعة', 'وسط', 'وسعة', 'وسعر', 'وسعرة', 'وسعره', 'وسعرو', 'وسلم', 'وسناك', 'وسندويش', 'وسندويشات', 'وسهرات', 'وسهرة', 'وسوبر', 'وسودا', 'وسوفى', 'وسوق', 'وش', 'وشاطئ', 'وشاعري', 'وشاورما', 'وشاي', 'وشباب', 'وشباك', 'وشدة', 'وشراب', 'وشرح', 'وشرعي', 'وشرقية', 'وشعبي', 'وشكرآ', 'وشكرا', 'وشلالات', 'وشمرا', 'وشهر', 'وشهرة', 'وشهي', 'وشهية', 'وشي', 'وشيشه', 'وصارو', 'وصاروا', 'وصالات', 'وصالة', 'وصاﻻت', 'وصحبه', 'وصحن', 'وصحون', 'وصحي', 'وصدق', 'وصغير', 'وصف', 'وصل', 'وصلة', 'وصلت', 'وصنعها', 'وصول', 'وصولا', 'وصيدلي', 'وصيدلية', 'وصيدليه', 'وصيني', 'وضحك', 'وضع', 'وضعوا', 'وضوح', 'وضياء', 'وطازجة', 'وطاقم', 'وطاقمه', 'وطاولات', 'وطاووق', 'وطبعا', 'وطبيعة', 'وطبيعه', 'وطبيعي', 'وطراز', 'وطرب', 'وطريقة', 'وطعام', 'وطعامه', 'وطعامها', 'وطعم', 'وطعمة', 'وطعمته', 'وطعمه', 'وطعمها', 'وطلبنا', 'وطلته', 'وطيب', 'وطيبه', 'وظيفه', 'وعائلاتهم', 'وعائلي', 'وعادي', 'وعازف', 'وعاشا', 'وعباس', 'وعجقة', 'وعدم', 'وعصائر', 'وعصري', 'وعصريا', 'وعصير', 'وعصيرات', 'وعقب', 'وعلبتين', 'وعلى', 'وعندما', 'وعندن', 'وعنده', 'وعندهم', 'وعندو', 'وعنوان', 'وغالي', 'وغربية', 'وغرف', 'وغير', 'وغيرها', 'وفؤاد', 'وفائض', 'وفاة', 'وفاتح', 'وفاكهه', 'وفخامة', 'وفرح', 'وفروج', 'وفريد', 'وفلافل', 'وفندق', 'وفواكه', 'وفوق', 'وفول', 'وفى', 'وفي', 'وفيالفنادق', 'وفيرة', 'وفيه', 'وقائمة', 'وقاعات', 'وقاعد', 'وقالت', 'وقالوا', 'وقت', 'وقتا', 'وقتها', 'وقح', 'وقد', 'وقدم', 'وقديم', 'وقريب', 'وقصيري', 'وقضاء', 'وقطعه', 'وقعدة', 'وقعده', 'وقعدي', 'وقلعة', 'وقليل', 'وقمة', 'وقهوة', 'وقوارب', 'وقود', 'وقوف', 'وك', 'وكأس', 'وكأن', 'وكأنني', 'وكأنها', 'وكادر', 'وكافي', 'وكافيه', 'وكان', 'وكانت', 'وكانك', 'وكانها', 'وكبة', 'وكبير', 'وكبيرة', 'وكتير', 'وكتييييير', 'وكثير', 'وكذلك', 'وكرم', 'وكرهت', 'وكريم', 'وكفتة', 'وكفى', 'وكل', 'وكلامي', 'وكلشي', 'وكله', 'وكلو', 'وكمان', 'وكنت', 'وكهربائيات', 'ول', 'ولآ', 'ولا', 'ولادي', 'ولازم', 'ولاكن', 'ولايمكن', 'ولتذوق', 'ولتستغرب', 'ولحم', 'ولحمة', 'ولديه', 'ولديهم', 'ولذة', 'ولذم', 'ولذيذ', 'ولذيذة', 'ولذيذه', 'ولسهره', 'ولسورين', 'ولعادية', 'ولعنت', 'ولغينا', 'ولفت', 'ولقد', 'ولقمة', 'ولقمه', 'ولك', 'ولكن', 'ولكنه', 'ولكنهم', 'وللطفولة', 'وللعب', 'ولم', 'ولن', 'ولنويت', 'وله', 'ولها', 'ولو', 'ولوالدينا', 'ولونها', 'ولي', 'وليس', 'وليمون', 'وم', 'ومأكولات', 'وما', 'وماتزور', 'ومازات', 'وماعنده', 'ومافي', 'ومالس', 'وماهرون', 'ومبالغ', 'ومتطابق', 'ومتماثلين', 'ومتميز', 'ومتنزعة', 'ومتنوع', 'ومتواضعة', 'ومتوسط', 'ومتوفر', 'ومجانية', 'ومجهز', 'ومحبة', 'ومحبينا', 'ومحترم', 'ومحترمة', 'ومحطات', 'ومختلفة', 'ومدخل', 'ومدير', 'ومذاق', 'ومذاقها', 'ومرة', 'ومرتاحه', 'ومرتب', 'ومرتبة', 'ومرتفع', 'ومرنب', 'ومره', 'ومريح', 'ومزدحم', 'ومزعجة', 'ومزوء', 'ومزيد', 'ومسبح', 'ومستوى', 'ومسكه', 'ومش', 'ومشاوي', 'ومشجعيه', 'ومشروبات', 'ومشروباته', 'ومشهور', 'ومطاعم', 'ومطعم', 'ومطل', 'ومع', 'ومعاملة', 'ومعاملتون', 'ومعامله', 'ومعجنات', 'ومعقول', 'ومغفرة', 'ومفعم', 'ومفيدة', 'ومقابل', 'ومقهى', 'ومكان', 'ومكتبة', 'ومكتض', 'وملعب', 'وملعقتين', 'ومليء', 'وممتاااااز', 'وممتاز', 'وممتازة', 'وممتع', 'وممكن', 'وممنوع', 'ومميز', 'ومميزة', 'ومميزه', 'ومن', 'ومناسب', 'ومناسبات', 'ومناضر', 'ومناظر', 'ومناقيش', 'ومندي', 'ومنضر', 'ومنظر', 'ومنظمه', 'ومنفضة', 'ومنيح', 'ومنين', 'وموائد', 'ومواقف', 'وموت', 'وموتيل', 'ومودرن', 'وموظفين', 'وموقع', 'وموقعه', 'وموقف', 'ومياه', 'ون', 'وناد', 'ونادي', 'ونانسي', 'ونتمنى', 'ونحن', 'ونرددهم', 'ونريد', 'ونستمتع', 'ونشاء', 'ونص', 'ونضافه', 'ونضيف', 'ونطيفة', 'ونظافة', 'ونظافه', 'ونظام', 'ونظامها', 'ونظايف', 'ونظرا', 'ونظيف', 'ونظيفة', 'ونظيفه', 'ونعلم', 'ونفس', 'ونكهات', 'ونكهته', 'ونكهه', 'ونهارا', 'ونواحيها', 'ونوع', 'ونوعية', 'وهادئ', 'وهادئه', 'وهادي', 'وهارئ', 'وهد', 'وهدمته', 'وهدوء', 'وهل', 'وهم', 'وهمن', 'وهنا', 'وهناك', 'وهنالك', 'وهندسة', 'وهو', 'وهواء', 'وهون', 'وهي', 'وهيدا', 'وهيدي', 'وهيفاء', 'وهيك', 'وواسع', 'ووجبات', 'ووجبة', 'ووجها', 'ووجوة', 'ووجود', 'ووجوه', 'وورق', 'وورود', 'وولا', 'وووواوووو', 'وووووو', 'ويا', 'ويتمتع', 'ويتميز', 'ويتوفر', 'ويجرب', 'ويجود', 'ويحتاج', 'ويحطون', 'ويحمل', 'ويختص', 'ويراعي', 'ويرضي', 'ويساعد', 'ويستاهل', 'ويستحق', 'ويشعرك', 'ويصلح', 'ويصلك', 'ويطل', 'ويعتبر', 'ويعمل', 'ويقدم', 'ويقدما', 'ويكتب', 'ويلي', 'ويمتاز', 'ويمكن', 'ويمكنك', 'ويمكنني', 'ويملك', 'وين', 'وينتهي', 'ويوجد', 'ويوفقكم', 'و٣', 'و٤', 'يأخذ', 'يأكل', 'يؤخذ', 'يؤكل', 'يا', 'ياتي', 'ياخذ', 'يارب', 'ياريت', 'ياعين', 'يافطة', 'ياكل', 'يالله', 'ياه', 'ياهك', 'ياويلي', 'يباع', 'يبحث', 'يبحس', 'يبخلو', 'يبدو', 'يبعتلنا', 'يبعد', 'يبغو', 'يبيع', 'ية', 'يت', 'يتأخر', 'يتبدل', 'يتحسن', 'يتسمم', 'يتسمى', 'يتشرط', 'يتعارض', 'يتعاملو', 'يتعاملون', 'يتعشوا', 'يتعشى', 'يتعهد', 'يتم', 'يتمتع', 'يتميز', 'يتميزون', 'يتناسب', 'يتواضع', 'يتوشوشون', 'يتيح', 'يجئوررو', 'يجادلك', 'يجب', 'يجرب', 'يجربو', 'يجربوه', 'يجعلك', 'يجلس', 'يجلسون', 'يجمع', 'يجنن', 'يجننن', 'يجي', 'يجيب', 'يحاول', 'يحب', 'يحبها', 'يحتاج', 'يحتاجها', 'يحتفظ', 'يحتوي', 'يحرص', 'يحسنو', 'يحصل', 'يحضر', 'يحكو', 'يحكوا', 'يحمل', 'يحملا', 'يحمي', 'يحميهون', 'يحي', 'يخاف', 'يخبرنا', 'يختلف', 'يخدموا', 'يخص', 'يد', 'يدخل', 'يدفعون', 'يدمن', 'يدير', 'يديران', 'يديمكم', 'يديمهم', 'يراقبون', 'يرجع', 'يرجى', 'يرحب', 'يرحم', 'يرحمك', 'يرد', 'يرزقك', 'يرزقكم', 'يركن', 'يروح', 'يرى', 'يريحني', 'يريد', 'يزال', 'يزور', 'يزوره', 'يزورونه', 'يزيد', 'يساعدنا', 'يسال', 'يساهم', 'يسبب', 'يستااااهل', 'يستاهل', 'يستحق', 'يستمر', 'يستمروا', 'يستهل', 'يستوعب', 'يسمح', 'يسمحو', 'يشبع', 'يشتغل', 'يشرح', 'يشعرك', 'يشيلو', 'يصعب', 'يصلح', 'يصير', 'يضاف', 'يضل', 'يضلو', 'يضم', 'يطاق', 'يطالب', 'يطبخ', 'يطل', 'يطلب', 'يطلع', 'يطلعب', 'يطير', 'يعاقبوك', 'يعانق', 'يعتبر', 'يعتبرجيد', 'يعتقد', 'يعجبة', 'يعجبني', 'يعد', 'يعرض', 'يعزمنا', 'يعزمني', 'يعطيكن', 'يعكس', 'يعمول', 'يعنوها', 'يعني', 'يعيب', 'يعيبة', 'يعيبه', 'يعيد', 'يعين', 'يعينو', 'يغسل', 'يغسلها', 'يغطي', 'يغلق', 'يغني', 'يغنيك', 'يفتح', 'يفتقده', 'يفشلوك', 'يفصله', 'يفضل', 'يفهم', 'يفوت', 'يقال', 'يقدم', 'يقع', 'يقل', 'يقوي', 'يقيمون', 'يكاد', 'يكافئ', 'يكتب', 'يكسرو', 'يكفي', 'يكلف', 'يكن', 'يكون', 'يكونو', 'يل', 'يلا', 'يلاحظ', 'يلبون', 'يلتقي', 'يلعن', 'يلفت', 'يللي', 'يلمس', 'يلي', 'يمثل', 'يمرق', 'يمكجن', 'يمكن', 'يمكنك', 'يمكننا', 'يمكنني', 'يملون', 'يمنع', 'يمني', 'يمي', 'يميييي', 'يمييييي', 'ين', 'ينؤ', 'ينافس', 'ينتظرون', 'ينزل', 'ينزلك', 'ينشدها', 'ينعمل', 'ينقصه', 'ينقصهم', 'ينقلك', 'يهتم', 'يهمني', 'يهني', 'يوجد', 'يوحي', 'يوسف', 'يوصف', 'يوصل', 'يوفر', 'يوفق', 'يوم', 'يومي', 'يومية', 'يومين', 'ييمممم', '٠٠', '١٠', '١١', '١٤', '١٦٢', '١٧', '١٨', '١٩٠٠م', '١٩٥٧', '٢٠', '٢٠١٥', '٢٠١٨', '٢٤', '٢٧', '٣٤٠٠٠', '٣٥', '٥٠', '٥٠٠', '٥٠٠٠', '٦٠', '٦٦٠٠٠', '٧٥', 'پاركينغ', 'ہط', 'ہع', 'ہل', 'ہم', 'ﻷنه', 'ﻻاحب', 'ﻻباس', 'ﻻن']\n"
     ]
    },
    {
     "name": "stderr",
     "output_type": "stream",
     "text": [
      "C:\\Users\\danny\\Anaconda3\\lib\\site-packages\\sklearn\\linear_model\\logistic.py:432: FutureWarning: Default solver will be changed to 'lbfgs' in 0.22. Specify a solver to silence this warning.\n",
      "  FutureWarning)\n"
     ]
    },
    {
     "data": {
      "text/plain": [
       "LogisticRegression(C=1.0, class_weight=None, dual=False, fit_intercept=True,\n",
       "                   intercept_scaling=1, l1_ratio=None, max_iter=100,\n",
       "                   multi_class='warn', n_jobs=None, penalty='l2',\n",
       "                   random_state=None, solver='warn', tol=0.0001, verbose=0,\n",
       "                   warm_start=False)"
      ]
     },
     "execution_count": 14,
     "metadata": {},
     "output_type": "execute_result"
    }
   ],
   "source": [
    "tfidf = TfidfVectorizer()\n",
    "X_train_tfidf = tfidf.fit_transform(X_train)\n",
    "print(\"Number of features : %d \\n\" %len(tfidf.get_feature_names()))\n",
    "print(\"Show some feature names : \\n\", tfidf.get_feature_names())\n",
    "\n",
    "# Logistic Regression\n",
    "lr = LogisticRegression()\n",
    "lr.fit(X_train_tfidf, y_train)"
   ]
  },
  {
   "cell_type": "code",
   "execution_count": 15,
   "metadata": {
    "scrolled": true
   },
   "outputs": [
    {
     "name": "stdout",
     "output_type": "stream",
     "text": [
      "\n",
      "Top 10 features with smallest coefficients :\n",
      "['غير' 'سيئة' 'لا' 'سيئ' 'سيء' 'ليس' 'عادي' 'ابدا' 'مش' 'صفر']\n",
      "\n",
      "Top 10 features with largest coefficients : \n",
      "['ممتاز' 'رائع' 'اطيب' 'مميز' 'مطعم' 'لذيذ' 'طيب' 'رائعة' 'ممتازة' 'جميل']\n"
     ]
    }
   ],
   "source": [
    "# Look at the top 10 features with smallest and the largest coefficients\n",
    "feature_names = np.array(tfidf.get_feature_names())\n",
    "sorted_coef_index = lr.coef_[0].argsort()\n",
    "print('\\nTop 10 features with smallest coefficients :\\n{}\\n'.format(feature_names[sorted_coef_index[:10]]))\n",
    "print('Top 10 features with largest coefficients : \\n{}'.format(feature_names[sorted_coef_index[:-11:-1]]))"
   ]
  },
  {
   "cell_type": "code",
   "execution_count": 16,
   "metadata": {},
   "outputs": [],
   "source": [
    "def modelEvaluation(predictions):\n",
    "    print (\"\\nAccuracy on validation set: {:.4f}\".format(accuracy_score(y_test, predictions)))\n",
    "    print(\"\\nAUC score : {:.4f}\".format(roc_auc_score(y_test, predictions)))\n",
    "    print(\"\\nClassification report : \\n\", metrics.classification_report(y_test, predictions))\n",
    "    print(\"\\nConfusion Matrix : \\n\", metrics.confusion_matrix(y_test, predictions))"
   ]
  },
  {
   "cell_type": "code",
   "execution_count": 17,
   "metadata": {
    "scrolled": true
   },
   "outputs": [
    {
     "name": "stdout",
     "output_type": "stream",
     "text": [
      "\n",
      "Accuracy on validation set: 0.8827\n",
      "\n",
      "AUC score : 0.5394\n",
      "\n",
      "Classification report : \n",
      "               precision    recall  f1-score   support\n",
      "\n",
      "           0       0.80      0.08      0.15        98\n",
      "           1       0.88      1.00      0.94       686\n",
      "\n",
      "    accuracy                           0.88       784\n",
      "   macro avg       0.84      0.54      0.54       784\n",
      "weighted avg       0.87      0.88      0.84       784\n",
      "\n",
      "\n",
      "Confusion Matrix : \n",
      " [[  8  90]\n",
      " [  2 684]]\n"
     ]
    }
   ],
   "source": [
    "# Evaluate on the validaton set\n",
    "predictions = lr.predict(tfidf.transform(X_test))\n",
    "modelEvaluation(predictions)"
   ]
  },
  {
   "cell_type": "code",
   "execution_count": 18,
   "metadata": {
    "scrolled": false
   },
   "outputs": [
    {
     "data": {
      "image/png": "[encoded data removed]",
      "text/plain": [
       "<Figure size 432x288 with 1 Axes>"
      ]
     },
     "metadata": {
      "needs_background": "light"
     },
     "output_type": "display_data"
    }
   ],
   "source": [
    "fpr, tpr, _ = roc_curve(y_test,predictions)\n",
    "roc_auc = auc(fpr, tpr)\n",
    "plt.plot(fpr, tpr, label='AUC %0.2f'%(roc_auc))\n",
    "plt.legend(loc='lower right')\n",
    "plt.plot([0,1],[0,1],'r--')\n",
    "plt.title(\"Receiver Operating Characteristics Curve\")\n",
    "plt.show()"
   ]
  }
 ],
 "metadata": {
  "kernelspec": {
   "display_name": "Python 3",
   "language": "python",
   "name": "python3"
  },
  "language_info": {
   "codemirror_mode": {
    "name": "ipython",
    "version": 3
   },
   "file_extension": ".py",
   "mimetype": "text/x-python",
   "name": "python",
   "nbconvert_exporter": "python",
   "pygments_lexer": "ipython3",
   "version": "3.7.3"
  }
 },
 "nbformat": 4,
 "nbformat_minor": 2
}
