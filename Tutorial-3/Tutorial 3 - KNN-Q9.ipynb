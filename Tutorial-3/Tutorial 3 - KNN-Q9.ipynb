{
 "cells": [
  {
   "cell_type": "code",
   "execution_count": 1,
   "metadata": {},
   "outputs": [],
   "source": [
    "import pandas as pd\n",
    "import numpy as np\n",
    "from sklearn.model_selection import train_test_split\n",
    "from sklearn import neighbors\n",
    "from sklearn.metrics import classification_report\n",
    "from sklearn.preprocessing import StandardScaler\n",
    "from sklearn.svm import SVC"
   ]
  },
  {
   "cell_type": "markdown",
   "metadata": {},
   "source": [
    "### 9.\tProduce a Jupyter Notebook code and use KNN classification on the wine dataset contained in the SKLearn datasets library (i.e. sklearn.datasets.load_wine). What is the optimal value for n_neighbors? What is the accuracy score? Produce a classification report and discuss your results."
   ]
  },
  {
   "cell_type": "code",
   "execution_count": 2,
   "metadata": {},
   "outputs": [
    {
     "data": {
      "text/plain": [
       "dict_keys(['data', 'target', 'target_names', 'DESCR', 'feature_names'])"
      ]
     },
     "execution_count": 2,
     "metadata": {},
     "output_type": "execute_result"
    }
   ],
   "source": [
    "from sklearn.datasets import load_wine\n",
    "\n",
    "wine_dataset = load_wine()\n",
    "wine_dataset.keys()"
   ]
  },
  {
   "cell_type": "code",
   "execution_count": 3,
   "metadata": {},
   "outputs": [],
   "source": [
    "X = wine_dataset.data\n",
    "y = wine_dataset.target\n",
    "\n",
    "#Create a train-test split in your data using the SKLearn Train-Test split library\n",
    "X_train, X_test, y_train, y_test = train_test_split(X, y, test_size = 0.3)"
   ]
  },
  {
   "cell_type": "code",
   "execution_count": 9,
   "metadata": {},
   "outputs": [
    {
     "name": "stdout",
     "output_type": "stream",
     "text": [
      "[1.29897581e+01 2.26500000e+00 2.33798387e+00 1.94580645e+01\n",
      " 9.95806452e+01 2.27032258e+00 1.98354839e+00 3.64516129e-01\n",
      " 1.56225806e+00 5.03572580e+00 9.50000000e-01 2.58846774e+00\n",
      " 7.17427419e+02]\n",
      "[1.29897581e+01 2.26500000e+00 2.33798387e+00 1.94580645e+01\n",
      " 9.95806452e+01 2.27032258e+00 1.98354839e+00 3.64516129e-01\n",
      " 1.56225806e+00 5.03572580e+00 9.50000000e-01 2.58846774e+00\n",
      " 7.17427419e+02]\n"
     ]
    }
   ],
   "source": [
    "#Normalize your data using SKLearn's standard scaler\n",
    "scaler = StandardScaler()\n",
    "#help(scaler)\n",
    "#print(dict(scaler))\n",
    "#print(scaler.mean_)\n",
    "scaler.fit(X_train)\n",
    "print(scaler.mean_)\n",
    "X_train_transform = scaler.transform(X_train)\n",
    "print(scaler.mean_)\n",
    "X_test_transform = scaler.transform(X_test)"
   ]
  },
  {
   "cell_type": "code",
   "execution_count": 5,
   "metadata": {},
   "outputs": [
    {
     "name": "stdout",
     "output_type": "stream",
     "text": [
      "0.9444444444444444\n",
      "              precision    recall  f1-score   support\n",
      "\n",
      "           0       1.00      1.00      1.00        21\n",
      "           1       1.00      0.88      0.93        24\n",
      "           2       0.75      1.00      0.86         9\n",
      "\n",
      "    accuracy                           0.94        54\n",
      "   macro avg       0.92      0.96      0.93        54\n",
      "weighted avg       0.96      0.94      0.95        54\n",
      "\n"
     ]
    }
   ],
   "source": [
    "#Run classifier on data\n",
    "knn = neighbors.KNeighborsClassifier(n_neighbors=3)\n",
    "knn_model_2 = knn.fit(X_train_transform, y_train)\n",
    "\n",
    "print(knn_model_2.score(X_test_transform, y_test))\n",
    "\n",
    "y_true, y_pred = y_test, knn_model_2.predict(X_test_transform)\n",
    "\n",
    "print(classification_report(y_true, y_pred))"
   ]
  },
  {
   "cell_type": "code",
   "execution_count": 6,
   "metadata": {},
   "outputs": [
    {
     "name": "stdout",
     "output_type": "stream",
     "text": [
      "n_neighbors 2 weights uniform train accuracy: 0.959677 test accuracy: 0.907407\n",
      "n_neighbors 3 weights uniform train accuracy: 0.959677 test accuracy: 0.944444\n",
      "n_neighbors 4 weights uniform train accuracy: 0.943548 test accuracy: 0.962963\n",
      "n_neighbors 5 weights uniform train accuracy: 0.967742 test accuracy: 0.944444\n",
      "n_neighbors 6 weights uniform train accuracy: 0.951613 test accuracy: 0.962963\n",
      "n_neighbors 7 weights uniform train accuracy: 0.975806 test accuracy: 0.962963\n",
      "n_neighbors 8 weights uniform train accuracy: 0.975806 test accuracy: 0.962963\n",
      "n_neighbors 9 weights uniform train accuracy: 0.967742 test accuracy: 0.962963\n",
      "n_neighbors 10 weights uniform train accuracy: 0.967742 test accuracy: 0.962963\n"
     ]
    }
   ],
   "source": [
    "# Conduct grid search\n",
    "np.random.seed(0)\n",
    "best_knn = None\n",
    "knn_best_test = -1\n",
    "\n",
    "results = {}\n",
    "n_neighbors = [2, 3, 4, 5, 6, 7, 8, 9, 10]\n",
    "weights = ['uniform'] #, 'distance']\n",
    "grid_search = [ (nn,weight) for nn in n_neighbors for weight in weights ]\n",
    "\n",
    "for nn, weight in grid_search:\n",
    "    # Create knn model\n",
    "    knn = neighbors.KNeighborsClassifier(n_neighbors = nn, weights = weight)\n",
    "    \n",
    "    # Train phase\n",
    "    knn_model_2 = knn.fit(X_train_transform, y_train)\n",
    "           \n",
    "    # Accuracy\n",
    "    train_accuracy = knn_model_2.score(X_train_transform, y_train)\n",
    "    test_accuracy = knn_model_2.score(X_test_transform, y_test)\n",
    "    \n",
    "    # Classification report\n",
    "    y_true, y_pred = y_test, knn_model_2.predict(X_test_transform)\n",
    "  \n",
    "    results[nn,weight] = (train_accuracy,test_accuracy)\n",
    "    \n",
    "    # Save best model\n",
    "    if test_accuracy > knn_best_test:\n",
    "        knn_best_test = test_accuracy\n",
    "        best_knn = knn_model_2\n",
    "        \n",
    "# Print out results.\n",
    "for g, k in sorted(results):\n",
    "    train_accuracy, test_accuracy = results[(g, k)]\n",
    "    print('n_neighbors %d weights %s train accuracy: %f test accuracy: %f' % (\n",
    "                g, k, train_accuracy, test_accuracy)) "
   ]
  },
  {
   "cell_type": "code",
   "execution_count": 7,
   "metadata": {},
   "outputs": [
    {
     "name": "stdout",
     "output_type": "stream",
     "text": [
      "0.9629629629629629\n"
     ]
    }
   ],
   "source": [
    "#print accuracy score of highest test accuracy\n",
    "print(knn_best_test)"
   ]
  },
  {
   "cell_type": "code",
   "execution_count": 8,
   "metadata": {},
   "outputs": [
    {
     "name": "stdout",
     "output_type": "stream",
     "text": [
      "              precision    recall  f1-score   support\n",
      "\n",
      "           0       1.00      1.00      1.00        21\n",
      "           1       1.00      0.92      0.96        24\n",
      "           2       0.82      1.00      0.90         9\n",
      "\n",
      "    accuracy                           0.96        54\n",
      "   macro avg       0.94      0.97      0.95        54\n",
      "weighted avg       0.97      0.96      0.96        54\n",
      "\n"
     ]
    }
   ],
   "source": [
    "#Print classification report\n",
    "y_true, y_pred = y_test, best_knn.predict(X_test_transform)\n",
    "\n",
    "print(classification_report(y_true, y_pred))"
   ]
  }
 ],
 "metadata": {
  "kernelspec": {
   "display_name": "Python 3",
   "language": "python",
   "name": "python3"
  },
  "language_info": {
   "codemirror_mode": {
    "name": "ipython",
    "version": 3
   },
   "file_extension": ".py",
   "mimetype": "text/x-python",
   "name": "python",
   "nbconvert_exporter": "python",
   "pygments_lexer": "ipython3",
   "version": "3.7.3"
  }
 },
 "nbformat": 4,
 "nbformat_minor": 2
}
