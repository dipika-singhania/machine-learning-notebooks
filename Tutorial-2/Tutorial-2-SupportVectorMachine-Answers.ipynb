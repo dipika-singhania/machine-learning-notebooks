{
 "cells": [
  {
   "cell_type": "code",
   "execution_count": 1,
   "metadata": {
    "colab": {},
    "colab_type": "code",
    "id": "W1rIO6Yfb47Y"
   },
   "outputs": [],
   "source": [
    "import numpy as np\n",
    "from sklearn.svm import SVR, SVC\n",
    "import matplotlib.pyplot as plt \n",
    "import pandas as pd \n",
    "import seaborn as sb\n",
    "%matplotlib inline"
   ]
  },
  {
   "cell_type": "code",
   "execution_count": null,
   "metadata": {
    "colab": {
     "base_uri": "https://localhost:8080/",
     "height": 195
    },
    "colab_type": "code",
    "id": "_bEe8pDD2PB3",
    "outputId": "506154ad-59ab-4a26-daf1-ffc4df3fcf95"
   },
   "outputs": [],
   "source": [
    "mf_cp = pd.read_csv('recipes_muffins_cupcakes.csv')\n",
    "mf_cp.head()"
   ]
  },
  {
   "cell_type": "code",
   "execution_count": 110,
   "metadata": {
    "colab": {
     "base_uri": "https://localhost:8080/",
     "height": 50
    },
    "colab_type": "code",
    "id": "nUPP11EI4AhF",
    "outputId": "bd9115d0-1b22-4372-886b-96325f649e58"
   },
   "outputs": [
    {
     "name": "stdout",
     "output_type": "stream",
     "text": [
      "Shape of X_train =  (16, 3)\n",
      "Shape of X_test =  (4, 3)\n"
     ]
    }
   ],
   "source": [
    "from sklearn.model_selection import train_test_split\n",
    "\n",
    "X, y = mf_cp[['Flour', 'Sugar', 'Milk']], mf_cp[['Type']]\n",
    "np.random.seed(2)\n",
    "X_train, X_test, y_train, y_test = train_test_split(X, y, train_size=0.8)\n",
    "\n",
    "print(\"Shape of X_train = \", X_train.shape)\n",
    "print(\"Shape of X_test = \", X_test.shape)"
   ]
  },
  {
   "cell_type": "code",
   "execution_count": 111,
   "metadata": {
    "colab": {
     "base_uri": "https://localhost:8080/",
     "height": 138
    },
    "colab_type": "code",
    "id": "jBsdoCaf5b7d",
    "outputId": "245b7caa-7a11-41bc-b1e8-13d9dc5eb5bb"
   },
   "outputs": [
    {
     "name": "stdout",
     "output_type": "stream",
     "text": [
      "[['Cupcake' 'Cupcake']\n",
      " ['Muffin' 'Muffin']\n",
      " ['Cupcake' 'Cupcake']\n",
      " ['Muffin' 'Muffin']]\n"
     ]
    },
    {
     "name": "stderr",
     "output_type": "stream",
     "text": [
      "/usr/local/lib/python3.6/dist-packages/sklearn/utils/validation.py:760: DataConversionWarning: A column-vector y was passed when a 1d array was expected. Please change the shape of y to (n_samples, ), for example using ravel().\n",
      "  y = column_or_1d(y, warn=True)\n"
     ]
    }
   ],
   "source": [
    "model_svm = SVC(kernel='linear')\n",
    "model_svm.fit(X_train, y_train)\n",
    "y_pred = model_svm.predict(X_test)\n",
    "print(np.column_stack((y_pred, y_test)))"
   ]
  },
  {
   "cell_type": "code",
   "execution_count": 112,
   "metadata": {
    "colab": {
     "base_uri": "https://localhost:8080/",
     "height": 34
    },
    "colab_type": "code",
    "id": "GuTr02ga7Mku",
    "outputId": "d0334068-7c6a-4794-e0c9-4e670dba3d5b"
   },
   "outputs": [
    {
     "name": "stdout",
     "output_type": "stream",
     "text": [
      "1.0\n"
     ]
    }
   ],
   "source": [
    "from sklearn.metrics import accuracy_score\n",
    "print(accuracy_score(y_pred, y_test))"
   ]
  },
  {
   "cell_type": "code",
   "execution_count": 73,
   "metadata": {
    "colab": {
     "base_uri": "https://localhost:8080/",
     "height": 195
    },
    "colab_type": "code",
    "id": "npQF_3qMjJNF",
    "outputId": "0c5bda02-1954-4470-cdaf-36dbab44536d"
   },
   "outputs": [
    {
     "data": {
      "text/html": [
       "<div>\n",
       "<style scoped>\n",
       "    .dataframe tbody tr th:only-of-type {\n",
       "        vertical-align: middle;\n",
       "    }\n",
       "\n",
       "    .dataframe tbody tr th {\n",
       "        vertical-align: top;\n",
       "    }\n",
       "\n",
       "    .dataframe thead th {\n",
       "        text-align: right;\n",
       "    }\n",
       "</style>\n",
       "<table border=\"1\" class=\"dataframe\">\n",
       "  <thead>\n",
       "    <tr style=\"text-align: right;\">\n",
       "      <th></th>\n",
       "      <th>sequence</th>\n",
       "      <th>price</th>\n",
       "    </tr>\n",
       "  </thead>\n",
       "  <tbody>\n",
       "    <tr>\n",
       "      <th>0</th>\n",
       "      <td>2</td>\n",
       "      <td>68.250000</td>\n",
       "    </tr>\n",
       "    <tr>\n",
       "      <th>1</th>\n",
       "      <td>3</td>\n",
       "      <td>67.300003</td>\n",
       "    </tr>\n",
       "    <tr>\n",
       "      <th>2</th>\n",
       "      <td>4</td>\n",
       "      <td>67.980003</td>\n",
       "    </tr>\n",
       "    <tr>\n",
       "      <th>3</th>\n",
       "      <td>7</td>\n",
       "      <td>67.690002</td>\n",
       "    </tr>\n",
       "    <tr>\n",
       "      <th>4</th>\n",
       "      <td>8</td>\n",
       "      <td>67.820000</td>\n",
       "    </tr>\n",
       "  </tbody>\n",
       "</table>\n",
       "</div>"
      ],
      "text/plain": [
       "   sequence      price\n",
       "0         2  68.250000\n",
       "1         3  67.300003\n",
       "2         4  67.980003\n",
       "3         7  67.690002\n",
       "4         8  67.820000"
      ]
     },
     "execution_count": 73,
     "metadata": {
      "tags": []
     },
     "output_type": "execute_result"
    }
   ],
   "source": [
    "df = pd.read_csv('price.csv')\n",
    "df.head()"
   ]
  },
  {
   "cell_type": "code",
   "execution_count": 83,
   "metadata": {
    "colab": {
     "base_uri": "https://localhost:8080/",
     "height": 50
    },
    "colab_type": "code",
    "id": "M3cq67Tzj_t-",
    "outputId": "89192449-ab7e-404d-8d1f-08c29d628d28"
   },
   "outputs": [
    {
     "name": "stdout",
     "output_type": "stream",
     "text": [
      "Train element selected  [ 0  1  2  3  4  5  6  7  8  9 10 11 12 13 14]\n",
      "Test element selected  [15 16 17 18 19]\n"
     ]
    }
   ],
   "source": [
    "# Do not use train_test_split as it will randomise the data\n",
    "# For time series data we do not want to randomize the data\n",
    "# Correctly defining train and test\n",
    "\n",
    "train_arr = np.arange(0, 15)\n",
    "test_arr = np.arange(15, 20)\n",
    "print(\"Train element selected \", train_arr)\n",
    "print(\"Test element selected \", test_arr)"
   ]
  },
  {
   "cell_type": "code",
   "execution_count": 84,
   "metadata": {
    "colab": {
     "base_uri": "https://localhost:8080/",
     "height": 50
    },
    "colab_type": "code",
    "id": "cJ-CBfy2jKq2",
    "outputId": "0bf253c3-8350-460f-cd03-60c621562277"
   },
   "outputs": [
    {
     "name": "stdout",
     "output_type": "stream",
     "text": [
      "Length of X_train =  15\n",
      "Length of X_test =  5\n"
     ]
    }
   ],
   "source": [
    "X_train, X_test, y_train, y_test = df['sequence'][train_arr], df['sequence'][test_arr], df['price'][train_arr], df['price'][test_arr]\n",
    "print(\"Length of X_train = \", len(X_train))\n",
    "print(\"Length of X_test = \", len(X_test))"
   ]
  },
  {
   "cell_type": "code",
   "execution_count": 0,
   "metadata": {
    "colab": {},
    "colab_type": "code",
    "id": "OWwJiI7DoSer"
   },
   "outputs": [],
   "source": [
    "def predict_prices(dates, prices):\n",
    "    # dates = np.reshape(dates,(len(dates), 1)) # convert to 1xn dimension\n",
    "    # x = np.reshape(x,(len(x), 1))\n",
    "    dates = np.expand_dims(dates, axis=1)\n",
    "    svr_lin  = SVR(kernel='linear', C=1e3)\n",
    "    svr_poly = SVR(kernel='poly', C=1e3, degree=2)\n",
    "    svr_rbf = SVR(kernel='rbf', C=1e3, gamma=0.1)\n",
    "    \n",
    "    # Fit regression model\n",
    "    svr_lin.fit(dates, prices)\n",
    "    svr_poly.fit(dates, prices)\n",
    "    svr_rbf.fit(dates, prices)\n",
    "    \n",
    "    plt.scatter(dates, prices, c='k', label='Data')\n",
    "    plt.plot(dates, svr_lin.predict(dates), c='g', label='Linear model')\n",
    "    plt.plot(dates, svr_rbf.predict(dates), c='r', label='RBF model')    \n",
    "    plt.plot(dates, svr_poly.predict(dates), c='b', label='Polynomial model')\n",
    "    \n",
    "    plt.xlabel('Date')\n",
    "    plt.ylabel('Price')\n",
    "    plt.title('Support Vector Regression')\n",
    "    plt.legend()\n",
    "    plt.show()\n",
    "    \n",
    "    return svr_rbf, svr_lin, svr_poly"
   ]
  },
  {
   "cell_type": "code",
   "execution_count": 78,
   "metadata": {
    "colab": {
     "base_uri": "https://localhost:8080/",
     "height": 295
    },
    "colab_type": "code",
    "id": "R_iHUBmiri1N",
    "outputId": "71a5675a-bd0f-4ead-db82-f3c6d43c7ff8"
   },
   "outputs": [
    {
     "data": {
      "image/png": "[encoded data removed]",
      "text/plain": [
       "<Figure size 432x288 with 1 Axes>"
      ]
     },
     "metadata": {
      "tags": []
     },
     "output_type": "display_data"
    }
   ],
   "source": [
    "svr_rbf, svr_lin, svr_poly = predict_prices(X_train, y_train)"
   ]
  },
  {
   "cell_type": "code",
   "execution_count": 79,
   "metadata": {
    "colab": {
     "base_uri": "https://localhost:8080/",
     "height": 101
    },
    "colab_type": "code",
    "id": "84qihvLRruFW",
    "outputId": "22473261-d852-42f2-a5b9-e387962e4cf9"
   },
   "outputs": [
    {
     "name": "stdout",
     "output_type": "stream",
     "text": [
      "[[71.61001659 72.19999695]\n",
      " [71.06302225 72.66000366]\n",
      " [70.66118636 72.83000183]\n",
      " [70.12643693 73.16999817]\n",
      " [70.09348053 73.70999908]]\n"
     ]
    }
   ],
   "source": [
    "y_pred = svr_rbf.predict(np.expand_dims(X_test, axis=1))\n",
    "print(np.column_stack((y_pred, y_test)))"
   ]
  },
  {
   "cell_type": "code",
   "execution_count": 80,
   "metadata": {
    "colab": {
     "base_uri": "https://localhost:8080/",
     "height": 34
    },
    "colab_type": "code",
    "id": "4LeAb_uQs2Gw",
    "outputId": "22b11098-008f-47a1-84f7-4fd288d25b85"
   },
   "outputs": [
    {
     "name": "stdout",
     "output_type": "stream",
     "text": [
      "5.988931698942966\n"
     ]
    }
   ],
   "source": [
    "from sklearn.metrics import mean_squared_error\n",
    "print(mean_squared_error(y_pred, y_test))"
   ]
  },
  {
   "cell_type": "code",
   "execution_count": 0,
   "metadata": {
    "colab": {},
    "colab_type": "code",
    "id": "iU5_XFS1t7bV"
   },
   "outputs": [],
   "source": []
  }
 ],
 "metadata": {
  "colab": {
   "collapsed_sections": [],
   "name": "Tutorial-2-SupportVectors.ipynb",
   "provenance": [],
   "toc_visible": true
  },
  "kernelspec": {
   "display_name": "Python 3",
   "language": "python",
   "name": "python3"
  },
  "language_info": {
   "codemirror_mode": {
    "name": "ipython",
    "version": 3
   },
   "file_extension": ".py",
   "mimetype": "text/x-python",
   "name": "python",
   "nbconvert_exporter": "python",
   "pygments_lexer": "ipython3",
   "version": "3.7.3"
  }
 },
 "nbformat": 4,
 "nbformat_minor": 1
}
