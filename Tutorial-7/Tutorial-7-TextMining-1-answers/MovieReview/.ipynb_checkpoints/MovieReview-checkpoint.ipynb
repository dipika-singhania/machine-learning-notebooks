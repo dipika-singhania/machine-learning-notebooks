{
 "cells": [
  {
   "cell_type": "markdown",
   "metadata": {},
   "source": [
    "## Load IMDb Moview Review Data"
   ]
  },
  {
   "cell_type": "code",
   "execution_count": 2,
   "metadata": {},
   "outputs": [
    {
     "data": {
      "text/html": [
       "<div>\n",
       "<style scoped>\n",
       "    .dataframe tbody tr th:only-of-type {\n",
       "        vertical-align: middle;\n",
       "    }\n",
       "\n",
       "    .dataframe tbody tr th {\n",
       "        vertical-align: top;\n",
       "    }\n",
       "\n",
       "    .dataframe thead th {\n",
       "        text-align: right;\n",
       "    }\n",
       "</style>\n",
       "<table border=\"1\" class=\"dataframe\">\n",
       "  <thead>\n",
       "    <tr style=\"text-align: right;\">\n",
       "      <th></th>\n",
       "      <th>review</th>\n",
       "      <th>sentiment</th>\n",
       "    </tr>\n",
       "  </thead>\n",
       "  <tbody>\n",
       "    <tr>\n",
       "      <th>0</th>\n",
       "      <td>I went and saw this movie last night after bei...</td>\n",
       "      <td>1</td>\n",
       "    </tr>\n",
       "    <tr>\n",
       "      <th>1</th>\n",
       "      <td>Actor turned director Bill Paxton follows up h...</td>\n",
       "      <td>1</td>\n",
       "    </tr>\n",
       "    <tr>\n",
       "      <th>2</th>\n",
       "      <td>As a recreational golfer with some knowledge o...</td>\n",
       "      <td>1</td>\n",
       "    </tr>\n",
       "    <tr>\n",
       "      <th>3</th>\n",
       "      <td>I saw this film in a sneak preview, and it is ...</td>\n",
       "      <td>1</td>\n",
       "    </tr>\n",
       "    <tr>\n",
       "      <th>4</th>\n",
       "      <td>Bill Paxton has taken the true story of the 19...</td>\n",
       "      <td>1</td>\n",
       "    </tr>\n",
       "  </tbody>\n",
       "</table>\n",
       "</div>"
      ],
      "text/plain": [
       "                                              review  sentiment\n",
       "0  I went and saw this movie last night after bei...          1\n",
       "1  Actor turned director Bill Paxton follows up h...          1\n",
       "2  As a recreational golfer with some knowledge o...          1\n",
       "3  I saw this film in a sneak preview, and it is ...          1\n",
       "4  Bill Paxton has taken the true story of the 19...          1"
      ]
     },
     "execution_count": 2,
     "metadata": {},
     "output_type": "execute_result"
    }
   ],
   "source": [
    "import pandas as pd\n",
    "df = pd.read_csv('movie_data.csv')\n",
    "df.head()"
   ]
  },
  {
   "cell_type": "markdown",
   "metadata": {},
   "source": [
    "## Preprocessing\n",
    "1. Remove HTML tags\n",
    "2. Remove extra whitespaces\n",
    "3. Lowercase all texts\n",
    "4. Remove stopwords\n",
    "5. Lemmatization"
   ]
  },
  {
   "cell_type": "code",
   "execution_count": 3,
   "metadata": {
    "scrolled": true
   },
   "outputs": [],
   "source": [
    "import nltk\n",
    "from nltk.corpus import stopwords\n",
    "from bs4 import BeautifulSoup\n",
    "import unidecode"
   ]
  },
  {
   "cell_type": "markdown",
   "metadata": {},
   "source": [
    "#### Remove HTML Tags\n",
    "If the reviews or texts are web scraped, chances are they will contain some HTML tags. Since these tags are not useful for our NLP tasks, it is better to remove them."
   ]
  },
  {
   "cell_type": "code",
   "execution_count": 4,
   "metadata": {
    "scrolled": true
   },
   "outputs": [
    {
     "data": {
      "text/plain": [
       "0        I went and saw this movie last night after bei...\n",
       "1        Actor turned director Bill Paxton follows up h...\n",
       "2        As a recreational golfer with some knowledge o...\n",
       "3        I saw this film in a sneak preview, and it is ...\n",
       "4        Bill Paxton has taken the true story of the 19...\n",
       "5        I saw this film on September 1st, 2005 in Indi...\n",
       "6        Maybe I'm reading into this too much, but I wo...\n",
       "7        I felt this film did have many good qualities....\n",
       "8        This movie is amazing because the fact that th...\n",
       "9        \"Quitting\" may be as much about exiting a pre-...\n",
       "10       I loved this movie from beginning to end.I am ...\n",
       "11       I was fortunate to attend the London premier o...\n",
       "12       I first saw this movie on IFC. Which is a grea...\n",
       "13       I must say, every time I see this movie, I am ...\n",
       "14       My wife is a mental health therapist and we wa...\n",
       "15       I saw this film at the Rotterdam International...\n",
       "16       \"Night of the Hunted\" stars French porn star B...\n",
       "17       Even if you're a fan of Jean Rollin's idiosync...\n",
       "18       I was surprised how much I enjoyed this. Sure ...\n",
       "19       I went into \"Night of the Hunted\" not knowing ...\n",
       "20       I have certainly not seen all of Jean Rollin's...\n",
       "21       Since this cartoon was made in the old days, F...\n",
       "22       Despite the title and unlike some other storie...\n",
       "23       Felix in Hollywood is a great film. The versio...\n",
       "24       A gem of a cartoon from the silent era---it wa...\n",
       "25       This short is one of the best of all time and ...\n",
       "26       Felix is watching an actor rehearse his lines:...\n",
       "27       While I can't say whether or not Larry Hama ev...\n",
       "28       Errol Flynn's roguish charm really shines thro...\n",
       "29       Warner Brothers tampered considerably with Ame...\n",
       "                               ...                        \n",
       "49970    I remember watching this movie several times a...\n",
       "49971    The first scene in 'Problem Child' has a baby ...\n",
       "49972    This kid is rather bad, but in no way do they ...\n",
       "49973    My girlfriend and I were stunned by how bad th...\n",
       "49974    This is one of the worst movies I have ever se...\n",
       "49975    Having just recently re-viewed \"Lipstick\" for ...\n",
       "49976    Don't waste 90 minutes of your time on \"Fast F...\n",
       "49977    This movie was billed as a comedy and a myster...\n",
       "49978    Story starts slow and nothing funny happens fo...\n",
       "49979    This film is a massive Yawn proving that Ameri...\n",
       "49980    It was a Sunday night and I was waiting for th...\n",
       "49981    Have I ever seen a film more shockingly inept?...\n",
       "49982    The next time you are at a party and someone a...\n",
       "49983    Turgid dialogue, feeble characterization - Har...\n",
       "49984    Cameron Diaz is a woman who is married to a ju...\n",
       "49985    I had the misfortune to watch this rubbish on ...\n",
       "49986    It's pretty bad when the generic movie synopsi...\n",
       "49987    Having watched this movie on the SciFi channel...\n",
       "49988    First off, I'm not here to dog this movie. I f...\n",
       "49989    Ah yez, the Sci Fi Channel produces Yeti anoth...\n",
       "49990    Yeti: Curse of the Snow Demon starts aboard a ...\n",
       "49991    Hmmm, a sports team is in a plane crash, gets ...\n",
       "49992    I saw this piece of garbage on AMC last night,...\n",
       "49993    Although the production and Jerry Jameson's di...\n",
       "49994    Capt. Gallagher (Lemmon) and flight attendant ...\n",
       "49995    Towards the end of the movie, I felt it was to...\n",
       "49996    This is the kind of movie that my enemies cont...\n",
       "49997    I saw 'Descent' last night at the Stockholm Fi...\n",
       "49998    Some films that you pick up for a pound turn o...\n",
       "49999    This is one of the dumbest films, I've ever se...\n",
       "Name: review, Length: 50000, dtype: object"
      ]
     },
     "execution_count": 4,
     "metadata": {},
     "output_type": "execute_result"
    }
   ],
   "source": [
    "def strip_html_tags(text):\n",
    "    \"\"\"remove html tags from text\"\"\"\n",
    "    soup = BeautifulSoup(text, \"html.parser\")\n",
    "    stripped_text = soup.get_text(separator=\" \")\n",
    "    return stripped_text\n",
    "\n",
    "df[\"review\"].apply(strip_html_tags)"
   ]
  },
  {
   "cell_type": "markdown",
   "metadata": {},
   "source": [
    "#### Remove Extra Whitespaces"
   ]
  },
  {
   "cell_type": "code",
   "execution_count": 5,
   "metadata": {
    "scrolled": true
   },
   "outputs": [
    {
     "data": {
      "text/plain": [
       "0        I went and saw this movie last night after bei...\n",
       "1        Actor turned director Bill Paxton follows up h...\n",
       "2        As a recreational golfer with some knowledge o...\n",
       "3        I saw this film in a sneak preview, and it is ...\n",
       "4        Bill Paxton has taken the true story of the 19...\n",
       "5        I saw this film on September 1st, 2005 in Indi...\n",
       "6        Maybe I'm reading into this too much, but I wo...\n",
       "7        I felt this film did have many good qualities....\n",
       "8        This movie is amazing because the fact that th...\n",
       "9        \"Quitting\" may be as much about exiting a pre-...\n",
       "10       I loved this movie from beginning to end.I am ...\n",
       "11       I was fortunate to attend the London premier o...\n",
       "12       I first saw this movie on IFC. Which is a grea...\n",
       "13       I must say, every time I see this movie, I am ...\n",
       "14       My wife is a mental health therapist and we wa...\n",
       "15       I saw this film at the Rotterdam International...\n",
       "16       \"Night of the Hunted\" stars French porn star B...\n",
       "17       Even if you're a fan of Jean Rollin's idiosync...\n",
       "18       I was surprised how much I enjoyed this. Sure ...\n",
       "19       I went into \"Night of the Hunted\" not knowing ...\n",
       "20       I have certainly not seen all of Jean Rollin's...\n",
       "21       Since this cartoon was made in the old days, F...\n",
       "22       Despite the title and unlike some other storie...\n",
       "23       Felix in Hollywood is a great film. The versio...\n",
       "24       A gem of a cartoon from the silent era---it wa...\n",
       "25       This short is one of the best of all time and ...\n",
       "26       Felix is watching an actor rehearse his lines:...\n",
       "27       While I can't say whether or not Larry Hama ev...\n",
       "28       Errol Flynn's roguish charm really shines thro...\n",
       "29       Warner Brothers tampered considerably with Ame...\n",
       "                               ...                        \n",
       "49970    I remember watching this movie several times a...\n",
       "49971    The first scene in 'Problem Child' has a baby ...\n",
       "49972    This kid is rather bad, but in no way do they ...\n",
       "49973    My girlfriend and I were stunned by how bad th...\n",
       "49974    This is one of the worst movies I have ever se...\n",
       "49975    Having just recently re-viewed \"Lipstick\" for ...\n",
       "49976    Don't waste 90 minutes of your time on \"Fast F...\n",
       "49977    This movie was billed as a comedy and a myster...\n",
       "49978    Story starts slow and nothing funny happens fo...\n",
       "49979    This film is a massive Yawn proving that Ameri...\n",
       "49980    It was a Sunday night and I was waiting for th...\n",
       "49981    Have I ever seen a film more shockingly inept?...\n",
       "49982    The next time you are at a party and someone a...\n",
       "49983    Turgid dialogue, feeble characterization - Har...\n",
       "49984    Cameron Diaz is a woman who is married to a ju...\n",
       "49985    I had the misfortune to watch this rubbish on ...\n",
       "49986    It's pretty bad when the generic movie synopsi...\n",
       "49987    Having watched this movie on the SciFi channel...\n",
       "49988    First off, I'm not here to dog this movie. I f...\n",
       "49989    Ah yez, the Sci Fi Channel produces Yeti anoth...\n",
       "49990    Yeti: Curse of the Snow Demon starts aboard a ...\n",
       "49991    Hmmm, a sports team is in a plane crash, gets ...\n",
       "49992    I saw this piece of garbage on AMC last night,...\n",
       "49993    Although the production and Jerry Jameson's di...\n",
       "49994    Capt. Gallagher (Lemmon) and flight attendant ...\n",
       "49995    Towards the end of the movie, I felt it was to...\n",
       "49996    This is the kind of movie that my enemies cont...\n",
       "49997    I saw 'Descent' last night at the Stockholm Fi...\n",
       "49998    Some films that you pick up for a pound turn o...\n",
       "49999    This is one of the dumbest films, I've ever se...\n",
       "Name: review, Length: 50000, dtype: object"
      ]
     },
     "execution_count": 5,
     "metadata": {},
     "output_type": "execute_result"
    }
   ],
   "source": [
    "def remove_whitespace(text):\n",
    "    \"\"\"remove extra whitespaces from text\"\"\"\n",
    "    text = text.strip()\n",
    "    return \" \".join(text.split())\n",
    "\n",
    "df[\"review\"].apply(remove_whitespace)"
   ]
  },
  {
   "cell_type": "markdown",
   "metadata": {},
   "source": [
    "### Convert all characters to lowercase\n"
   ]
  },
  {
   "cell_type": "code",
   "execution_count": 6,
   "metadata": {
    "scrolled": true
   },
   "outputs": [
    {
     "data": {
      "text/plain": [
       "0        i went and saw this movie last night after bei...\n",
       "1        actor turned director bill paxton follows up h...\n",
       "2        as a recreational golfer with some knowledge o...\n",
       "3        i saw this film in a sneak preview, and it is ...\n",
       "4        bill paxton has taken the true story of the 19...\n",
       "5        i saw this film on september 1st, 2005 in indi...\n",
       "6        maybe i'm reading into this too much, but i wo...\n",
       "7        i felt this film did have many good qualities....\n",
       "8        this movie is amazing because the fact that th...\n",
       "9        \"quitting\" may be as much about exiting a pre-...\n",
       "10       i loved this movie from beginning to end.i am ...\n",
       "11       i was fortunate to attend the london premier o...\n",
       "12       i first saw this movie on ifc. which is a grea...\n",
       "13       i must say, every time i see this movie, i am ...\n",
       "14       my wife is a mental health therapist and we wa...\n",
       "15       i saw this film at the rotterdam international...\n",
       "16       \"night of the hunted\" stars french porn star b...\n",
       "17       even if you're a fan of jean rollin's idiosync...\n",
       "18       i was surprised how much i enjoyed this. sure ...\n",
       "19       i went into \"night of the hunted\" not knowing ...\n",
       "20       i have certainly not seen all of jean rollin's...\n",
       "21       since this cartoon was made in the old days, f...\n",
       "22       despite the title and unlike some other storie...\n",
       "23       felix in hollywood is a great film. the versio...\n",
       "24       a gem of a cartoon from the silent era---it wa...\n",
       "25       this short is one of the best of all time and ...\n",
       "26       felix is watching an actor rehearse his lines:...\n",
       "27       while i can't say whether or not larry hama ev...\n",
       "28       errol flynn's roguish charm really shines thro...\n",
       "29       warner brothers tampered considerably with ame...\n",
       "                               ...                        \n",
       "49970    i remember watching this movie several times a...\n",
       "49971    the first scene in 'problem child' has a baby ...\n",
       "49972    this kid is rather bad, but in no way do they ...\n",
       "49973    my girlfriend and i were stunned by how bad th...\n",
       "49974    this is one of the worst movies i have ever se...\n",
       "49975    having just recently re-viewed \"lipstick\" for ...\n",
       "49976    don't waste 90 minutes of your time on \"fast f...\n",
       "49977    this movie was billed as a comedy and a myster...\n",
       "49978    story starts slow and nothing funny happens fo...\n",
       "49979    this film is a massive yawn proving that ameri...\n",
       "49980    it was a sunday night and i was waiting for th...\n",
       "49981    have i ever seen a film more shockingly inept?...\n",
       "49982    the next time you are at a party and someone a...\n",
       "49983    turgid dialogue, feeble characterization - har...\n",
       "49984    cameron diaz is a woman who is married to a ju...\n",
       "49985    i had the misfortune to watch this rubbish on ...\n",
       "49986    it's pretty bad when the generic movie synopsi...\n",
       "49987    having watched this movie on the scifi channel...\n",
       "49988    first off, i'm not here to dog this movie. i f...\n",
       "49989    ah yez, the sci fi channel produces yeti anoth...\n",
       "49990    yeti: curse of the snow demon starts aboard a ...\n",
       "49991    hmmm, a sports team is in a plane crash, gets ...\n",
       "49992    i saw this piece of garbage on amc last night,...\n",
       "49993    although the production and jerry jameson's di...\n",
       "49994    capt. gallagher (lemmon) and flight attendant ...\n",
       "49995    towards the end of the movie, i felt it was to...\n",
       "49996    this is the kind of movie that my enemies cont...\n",
       "49997    i saw 'descent' last night at the stockholm fi...\n",
       "49998    some films that you pick up for a pound turn o...\n",
       "49999    this is one of the dumbest films, i've ever se...\n",
       "Name: review, Length: 50000, dtype: object"
      ]
     },
     "execution_count": 6,
     "metadata": {},
     "output_type": "execute_result"
    }
   ],
   "source": [
    "def to_lowercase(text):\n",
    "    return text.lower()\n",
    "\n",
    "df[\"review\"].apply(to_lowercase)"
   ]
  },
  {
   "cell_type": "markdown",
   "metadata": {},
   "source": [
    "#### Remove Stop Words"
   ]
  },
  {
   "cell_type": "code",
   "execution_count": null,
   "metadata": {
    "scrolled": true
   },
   "outputs": [],
   "source": [
    "def remove_stopwords(text, lang='english'):\n",
    "    words = nltk.word_tokenize(text)\n",
    "    lang_stopwords = stopwords.words(lang)\n",
    "    stopwords_removed = [w for w in words if w.lower() not in lang_stopwords]\n",
    "    return \" \".join(stopwords_removed)\n",
    "\n",
    "df[\"review\"].apply(remove_stopwords)"
   ]
  },
  {
   "cell_type": "code",
   "execution_count": 7,
   "metadata": {},
   "outputs": [
    {
     "data": {
      "text/plain": [
       "<Figure size 640x480 with 1 Axes>"
      ]
     },
     "metadata": {},
     "output_type": "display_data"
    }
   ],
   "source": [
    "from wordcloud import WordCloud\n",
    "import matplotlib.pyplot as plt\n",
    "\n",
    "text = \"\".join(df[\"review\"])\n",
    "wordcloud = WordCloud().generate(text)\n",
    "\n",
    "plt.imshow(wordcloud)\n",
    "plt.axis(\"off\")\n",
    "plt.show()"
   ]
  },
  {
   "cell_type": "markdown",
   "metadata": {},
   "source": [
    "### Build a Classifer\n",
    "From the IMDb dataset, divide it into test and training sets of 25000 each"
   ]
  },
  {
   "cell_type": "code",
   "execution_count": 1,
   "metadata": {},
   "outputs": [
    {
     "ename": "NameError",
     "evalue": "name 'df' is not defined",
     "output_type": "error",
     "traceback": [
      "\u001b[1;31m---------------------------------------------------------------------------\u001b[0m",
      "\u001b[1;31mNameError\u001b[0m                                 Traceback (most recent call last)",
      "\u001b[1;32m<ipython-input-1-019219011c1b>\u001b[0m in \u001b[0;36m<module>\u001b[1;34m\u001b[0m\n\u001b[1;32m----> 1\u001b[1;33m \u001b[0mX_train\u001b[0m \u001b[1;33m=\u001b[0m \u001b[0mdf\u001b[0m\u001b[1;33m.\u001b[0m\u001b[0mloc\u001b[0m\u001b[1;33m[\u001b[0m\u001b[1;33m:\u001b[0m\u001b[1;36m24999\u001b[0m\u001b[1;33m,\u001b[0m \u001b[1;34m'review'\u001b[0m\u001b[1;33m]\u001b[0m\u001b[1;33m.\u001b[0m\u001b[0mvalues\u001b[0m\u001b[1;33m\u001b[0m\u001b[1;33m\u001b[0m\u001b[0m\n\u001b[0m\u001b[0;32m      2\u001b[0m \u001b[0my_train\u001b[0m \u001b[1;33m=\u001b[0m \u001b[0mdf\u001b[0m\u001b[1;33m.\u001b[0m\u001b[0mloc\u001b[0m\u001b[1;33m[\u001b[0m\u001b[1;33m:\u001b[0m\u001b[1;36m24999\u001b[0m\u001b[1;33m,\u001b[0m \u001b[1;34m'sentiment'\u001b[0m\u001b[1;33m]\u001b[0m\u001b[1;33m.\u001b[0m\u001b[0mvalues\u001b[0m\u001b[1;33m\u001b[0m\u001b[1;33m\u001b[0m\u001b[0m\n\u001b[0;32m      3\u001b[0m \u001b[0mX_test\u001b[0m \u001b[1;33m=\u001b[0m \u001b[0mdf\u001b[0m\u001b[1;33m.\u001b[0m\u001b[0mloc\u001b[0m\u001b[1;33m[\u001b[0m\u001b[1;36m25000\u001b[0m\u001b[1;33m:\u001b[0m\u001b[1;33m,\u001b[0m \u001b[1;34m'review'\u001b[0m\u001b[1;33m]\u001b[0m\u001b[1;33m.\u001b[0m\u001b[0mvalues\u001b[0m\u001b[1;33m\u001b[0m\u001b[1;33m\u001b[0m\u001b[0m\n\u001b[0;32m      4\u001b[0m \u001b[0my_test\u001b[0m \u001b[1;33m=\u001b[0m \u001b[0mdf\u001b[0m\u001b[1;33m.\u001b[0m\u001b[0mloc\u001b[0m\u001b[1;33m[\u001b[0m\u001b[1;36m25000\u001b[0m\u001b[1;33m:\u001b[0m\u001b[1;33m,\u001b[0m \u001b[1;34m'sentiment'\u001b[0m\u001b[1;33m]\u001b[0m\u001b[1;33m.\u001b[0m\u001b[0mvalues\u001b[0m\u001b[1;33m\u001b[0m\u001b[1;33m\u001b[0m\u001b[0m\n",
      "\u001b[1;31mNameError\u001b[0m: name 'df' is not defined"
     ]
    }
   ],
   "source": [
    "X_train = df.loc[:24999, 'review'].values\n",
    "y_train = df.loc[:24999, 'sentiment'].values\n",
    "X_test = df.loc[25000:, 'review'].values\n",
    "y_test = df.loc[25000:, 'sentiment'].values"
   ]
  },
  {
   "cell_type": "markdown",
   "metadata": {},
   "source": [
    "We use TfidTransformer to convert the text corpus into the feature vectors, we restrict the maximum features to 10000."
   ]
  },
  {
   "cell_type": "code",
   "execution_count": 9,
   "metadata": {},
   "outputs": [
    {
     "name": "stdout",
     "output_type": "stream",
     "text": [
      "(25000, 73822) (25000, 73822)\n"
     ]
    }
   ],
   "source": [
    "from sklearn.feature_extraction.text import TfidfTransformer\n",
    "from sklearn.feature_extraction.text import TfidfVectorizer\n",
    "\n",
    "vectorizer = TfidfVectorizer()\n",
    "train_vectors = vectorizer.fit_transform(X_train)\n",
    "test_vectors = vectorizer.transform(X_test)\n",
    "print(train_vectors.shape, test_vectors.shape)"
   ]
  },
  {
   "cell_type": "code",
   "execution_count": 10,
   "metadata": {},
   "outputs": [
    {
     "name": "stdout",
     "output_type": "stream",
     "text": [
      "\n",
      "F1 test score for SVC: 0.88\n"
     ]
    }
   ],
   "source": [
    "from sklearn.svm import SVC\n",
    "from sklearn.metrics import f1_score\n",
    "\n",
    "svc = SVC(kernel='linear')\n",
    "svc.fit(train_vectors, y_train)\n",
    "\n",
    "predictions = svc.predict(test_vectors)\n",
    "print(\"\\nF1 test score for SVC: {:.2f}\".format(f1_score(y_test, predictions)))"
   ]
  },
  {
   "cell_type": "code",
   "execution_count": 11,
   "metadata": {},
   "outputs": [
    {
     "name": "stdout",
     "output_type": "stream",
     "text": [
      "              precision    recall  f1-score   support\n",
      "\n",
      "           0       0.89      0.87      0.88     12740\n",
      "           1       0.87      0.89      0.88     12260\n",
      "\n",
      "    accuracy                           0.88     25000\n",
      "   macro avg       0.88      0.88      0.88     25000\n",
      "weighted avg       0.88      0.88      0.88     25000\n",
      "\n"
     ]
    }
   ],
   "source": [
    "from sklearn.metrics import classification_report\n",
    "\n",
    "print (classification_report(predictions, y_test))"
   ]
  }
 ],
 "metadata": {
  "kernelspec": {
   "display_name": "Python 3",
   "language": "python",
   "name": "python3"
  },
  "language_info": {
   "codemirror_mode": {
    "name": "ipython",
    "version": 3
   },
   "file_extension": ".py",
   "mimetype": "text/x-python",
   "name": "python",
   "nbconvert_exporter": "python",
   "pygments_lexer": "ipython3",
   "version": "3.7.3"
  }
 },
 "nbformat": 4,
 "nbformat_minor": 2
}
